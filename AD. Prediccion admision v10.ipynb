{
 "cells": [
  {
   "cell_type": "markdown",
   "id": "charitable-rally",
   "metadata": {},
   "source": [
    "### IIMPORTAR LIBRERIAS"
   ]
  },
  {
   "cell_type": "code",
   "execution_count": 15,
   "id": "civic-dubai",
   "metadata": {},
   "outputs": [],
   "source": [
    "import numpy as np\n",
    "import pandas as pd\n",
    "import matplotlib.pyplot as plt\n",
    "import tensorflow as tf"
   ]
  },
  {
   "cell_type": "markdown",
   "id": "supreme-continent",
   "metadata": {},
   "source": [
    "### CARGAR LIBRERIAS DESDE .CSV"
   ]
  },
  {
   "cell_type": "code",
   "execution_count": 16,
   "id": "promotional-theta",
   "metadata": {},
   "outputs": [],
   "source": [
    "path_base = \"C:\\\\Users\\\\fermi\\\\UOC\\\\Master UOC. Posgrado en inteligencia de negocio\\\\TFM\\\\Ficheros\"\n",
    "dataset_1 = pd.read_csv(path_base + \"\\diabetic_num.csv\")"
   ]
  },
  {
   "cell_type": "code",
   "execution_count": 17,
   "id": "intimate-muslim",
   "metadata": {},
   "outputs": [
    {
     "data": {
      "text/plain": [
       "(71515, 45)"
      ]
     },
     "execution_count": 17,
     "metadata": {},
     "output_type": "execute_result"
    }
   ],
   "source": [
    "dataset_1.shape"
   ]
  },
  {
   "cell_type": "markdown",
   "id": "facial-kinase",
   "metadata": {},
   "source": [
    "### ESTABLECER VARIABLES DEPENDIENTES E INDEPENDIENTES"
   ]
  },
  {
   "cell_type": "code",
   "execution_count": 18,
   "id": "peaceful-ontario",
   "metadata": {},
   "outputs": [
    {
     "data": {
      "text/html": [
       "<div>\n",
       "<style scoped>\n",
       "    .dataframe tbody tr th:only-of-type {\n",
       "        vertical-align: middle;\n",
       "    }\n",
       "\n",
       "    .dataframe tbody tr th {\n",
       "        vertical-align: top;\n",
       "    }\n",
       "\n",
       "    .dataframe thead th {\n",
       "        text-align: right;\n",
       "    }\n",
       "</style>\n",
       "<table border=\"1\" class=\"dataframe\">\n",
       "  <thead>\n",
       "    <tr style=\"text-align: right;\">\n",
       "      <th></th>\n",
       "      <th>race_num</th>\n",
       "      <th>gender_num</th>\n",
       "      <th>admission_type_id</th>\n",
       "      <th>discharge_disposition_id</th>\n",
       "      <th>admission_source_id</th>\n",
       "      <th>time_in_hospital</th>\n",
       "      <th>num_lab_procedures</th>\n",
       "      <th>num_procedures</th>\n",
       "      <th>num_medications</th>\n",
       "      <th>number_outpatient</th>\n",
       "      <th>...</th>\n",
       "      <th>insulin_num</th>\n",
       "      <th>glyburide.metformin_num</th>\n",
       "      <th>glipizide.metformin_num</th>\n",
       "      <th>glimepiride.pioglitazone_num</th>\n",
       "      <th>metformin.rosiglitazone_num</th>\n",
       "      <th>metformin.pioglitazone_num</th>\n",
       "      <th>change_num</th>\n",
       "      <th>diabetesMed_num</th>\n",
       "      <th>age2_num</th>\n",
       "      <th>diag_1_3_num</th>\n",
       "    </tr>\n",
       "  </thead>\n",
       "  <tbody>\n",
       "    <tr>\n",
       "      <th>0</th>\n",
       "      <td>3</td>\n",
       "      <td>1</td>\n",
       "      <td>2</td>\n",
       "      <td>1</td>\n",
       "      <td>1</td>\n",
       "      <td>8</td>\n",
       "      <td>77</td>\n",
       "      <td>6</td>\n",
       "      <td>33</td>\n",
       "      <td>0</td>\n",
       "      <td>...</td>\n",
       "      <td>3</td>\n",
       "      <td>2</td>\n",
       "      <td>1</td>\n",
       "      <td>1</td>\n",
       "      <td>1</td>\n",
       "      <td>1</td>\n",
       "      <td>1</td>\n",
       "      <td>2</td>\n",
       "      <td>2</td>\n",
       "      <td>1</td>\n",
       "    </tr>\n",
       "    <tr>\n",
       "      <th>1</th>\n",
       "      <td>3</td>\n",
       "      <td>1</td>\n",
       "      <td>3</td>\n",
       "      <td>1</td>\n",
       "      <td>1</td>\n",
       "      <td>2</td>\n",
       "      <td>49</td>\n",
       "      <td>1</td>\n",
       "      <td>11</td>\n",
       "      <td>0</td>\n",
       "      <td>...</td>\n",
       "      <td>2</td>\n",
       "      <td>2</td>\n",
       "      <td>1</td>\n",
       "      <td>1</td>\n",
       "      <td>1</td>\n",
       "      <td>1</td>\n",
       "      <td>2</td>\n",
       "      <td>1</td>\n",
       "      <td>2</td>\n",
       "      <td>6</td>\n",
       "    </tr>\n",
       "    <tr>\n",
       "      <th>2</th>\n",
       "      <td>3</td>\n",
       "      <td>1</td>\n",
       "      <td>1</td>\n",
       "      <td>3</td>\n",
       "      <td>7</td>\n",
       "      <td>4</td>\n",
       "      <td>68</td>\n",
       "      <td>2</td>\n",
       "      <td>23</td>\n",
       "      <td>0</td>\n",
       "      <td>...</td>\n",
       "      <td>2</td>\n",
       "      <td>2</td>\n",
       "      <td>1</td>\n",
       "      <td>1</td>\n",
       "      <td>1</td>\n",
       "      <td>1</td>\n",
       "      <td>2</td>\n",
       "      <td>2</td>\n",
       "      <td>3</td>\n",
       "      <td>5</td>\n",
       "    </tr>\n",
       "  </tbody>\n",
       "</table>\n",
       "<p>3 rows × 42 columns</p>\n",
       "</div>"
      ],
      "text/plain": [
       "   race_num  gender_num  admission_type_id  discharge_disposition_id  \\\n",
       "0         3           1                  2                         1   \n",
       "1         3           1                  3                         1   \n",
       "2         3           1                  1                         3   \n",
       "\n",
       "   admission_source_id  time_in_hospital  num_lab_procedures  num_procedures  \\\n",
       "0                    1                 8                  77               6   \n",
       "1                    1                 2                  49               1   \n",
       "2                    7                 4                  68               2   \n",
       "\n",
       "   num_medications  number_outpatient  ...  insulin_num  \\\n",
       "0               33                  0  ...            3   \n",
       "1               11                  0  ...            2   \n",
       "2               23                  0  ...            2   \n",
       "\n",
       "   glyburide.metformin_num  glipizide.metformin_num  \\\n",
       "0                        2                        1   \n",
       "1                        2                        1   \n",
       "2                        2                        1   \n",
       "\n",
       "   glimepiride.pioglitazone_num  metformin.rosiglitazone_num  \\\n",
       "0                             1                            1   \n",
       "1                             1                            1   \n",
       "2                             1                            1   \n",
       "\n",
       "   metformin.pioglitazone_num  change_num  diabetesMed_num  age2_num  \\\n",
       "0                           1           1                2         2   \n",
       "1                           1           2                1         2   \n",
       "2                           1           2                2         3   \n",
       "\n",
       "   diag_1_3_num  \n",
       "0             1  \n",
       "1             6  \n",
       "2             5  \n",
       "\n",
       "[3 rows x 42 columns]"
      ]
     },
     "execution_count": 18,
     "metadata": {},
     "output_type": "execute_result"
    }
   ],
   "source": [
    "X = dataset_1.iloc[:, np.r_[0:2, 3:41, 42,43]]\n",
    "y = dataset_1.iloc[:,-1].values\n",
    "X.head(3)"
   ]
  },
  {
   "cell_type": "code",
   "execution_count": 19,
   "id": "growing-poetry",
   "metadata": {},
   "outputs": [
    {
     "data": {
      "text/plain": [
       "Index(['race_num', 'gender_num', 'admission_type_id',\n",
       "       'discharge_disposition_id', 'admission_source_id', 'time_in_hospital',\n",
       "       'num_lab_procedures', 'num_procedures', 'num_medications',\n",
       "       'number_outpatient', 'number_emergency', 'number_inpatient',\n",
       "       'number_diagnoses', 'max_glu_serum_num', 'A1Cresult_num',\n",
       "       'metformin_num', 'repaglinide_num', 'nateglinide_num',\n",
       "       'chlorpropamide_num', 'glimepiride_num', 'acetohexamide_num',\n",
       "       'glipizide_num', 'glyburide_num', 'tolbutamide_num', 'pioglitazone_num',\n",
       "       'rosiglitazone_num', 'acarbose_num', 'miglitol_num', 'troglitazone_num',\n",
       "       'tolazamide_num', 'examide_num', 'citoglipton_num', 'insulin_num',\n",
       "       'glyburide.metformin_num', 'glipizide.metformin_num',\n",
       "       'glimepiride.pioglitazone_num', 'metformin.rosiglitazone_num',\n",
       "       'metformin.pioglitazone_num', 'change_num', 'diabetesMed_num',\n",
       "       'age2_num', 'diag_1_3_num'],\n",
       "      dtype='object')"
      ]
     },
     "execution_count": 19,
     "metadata": {},
     "output_type": "execute_result"
    }
   ],
   "source": [
    "X.columns"
   ]
  },
  {
   "cell_type": "code",
   "execution_count": 20,
   "id": "distinguished-momentum",
   "metadata": {},
   "outputs": [
    {
     "data": {
      "text/plain": [
       "(71515, 42)"
      ]
     },
     "execution_count": 20,
     "metadata": {},
     "output_type": "execute_result"
    }
   ],
   "source": [
    "X.shape"
   ]
  },
  {
   "cell_type": "code",
   "execution_count": 21,
   "id": "hazardous-irish",
   "metadata": {},
   "outputs": [
    {
     "data": {
      "text/plain": [
       "3    58529\n",
       "2     6304\n",
       "4     3791\n",
       "1     2891\n",
       "Name: A1Cresult_num, dtype: int64"
      ]
     },
     "execution_count": 21,
     "metadata": {},
     "output_type": "execute_result"
    }
   ],
   "source": [
    "X[\"A1Cresult_num\"].value_counts()"
   ]
  },
  {
   "cell_type": "markdown",
   "id": "russian-wheat",
   "metadata": {},
   "source": [
    "### DATOS DE ENTRENAMIENTO Y DE TEST"
   ]
  },
  {
   "cell_type": "code",
   "execution_count": 22,
   "id": "surgical-spanish",
   "metadata": {},
   "outputs": [],
   "source": [
    "from sklearn.model_selection import train_test_split\n",
    "X_train, X_test, y_train, y_test = train_test_split(X, y, test_size = 0.20, random_state =1)"
   ]
  },
  {
   "cell_type": "markdown",
   "id": "ruled-cooking",
   "metadata": {},
   "source": [
    "#### Datos test vs Datos train. Casos totales, Casos Positivos y Casos Negativos"
   ]
  },
  {
   "cell_type": "code",
   "execution_count": 23,
   "id": "breathing-archive",
   "metadata": {},
   "outputs": [
    {
     "name": "stdout",
     "output_type": "stream",
     "text": [
      "Total registros del train 57212\n",
      "Total positivos en y_train:  5029\n",
      "Porcentaje de positivos:  8.79 %\n",
      "Total negativos en y_train:  52183\n",
      "Porcentaje de negativos 91.21 %\n"
     ]
    }
   ],
   "source": [
    "total = len(y_train)\n",
    "one_count = np.sum(y_train)\n",
    "one_count_pct=one_count/total\n",
    "zero_count = total - one_count\n",
    "zero_count_pct = 1 - one_count_pct\n",
    "\n",
    "print(\"Total registros del train\", total)\n",
    "print(\"Total positivos en y_train: \", one_count)\n",
    "print(\"Porcentaje de positivos: \", round(one_count_pct*100,2), \"%\")\n",
    "print(\"Total negativos en y_train: \", zero_count)\n",
    "print(\"Porcentaje de negativos\", round(zero_count_pct*100,2), \"%\")"
   ]
  },
  {
   "cell_type": "code",
   "execution_count": 24,
   "id": "necessary-sight",
   "metadata": {},
   "outputs": [
    {
     "name": "stdout",
     "output_type": "stream",
     "text": [
      "Total registros del test 14303\n",
      "Total positivos en y_test:  1264\n",
      "Porcentaje de positivos:  8.84 %\n",
      "Total negativos en y_test:  13039\n",
      "Porcentaje de negativos 91.16 %\n"
     ]
    }
   ],
   "source": [
    "total = len(y_test)\n",
    "one_count = np.sum(y_test)\n",
    "one_count_pct=one_count/total\n",
    "zero_count = total - one_count\n",
    "zero_count_pct = 1 - one_count_pct\n",
    "\n",
    "print(\"Total registros del test\", total)\n",
    "print(\"Total positivos en y_test: \", one_count)\n",
    "print(\"Porcentaje de positivos: \", round(one_count_pct*100,2), \"%\")\n",
    "print(\"Total negativos en y_test: \", zero_count)\n",
    "print(\"Porcentaje de negativos\", round(zero_count_pct*100,2), \"%\")"
   ]
  },
  {
   "cell_type": "markdown",
   "id": "intended-remove",
   "metadata": {},
   "source": [
    "#### Arbol de clasificación - Fase de entrenamiento"
   ]
  },
  {
   "cell_type": "code",
   "execution_count": 25,
   "id": "clean-honolulu",
   "metadata": {},
   "outputs": [
    {
     "data": {
      "text/plain": [
       "DecisionTreeClassifier(random_state=0)"
      ]
     },
     "execution_count": 25,
     "metadata": {},
     "output_type": "execute_result"
    }
   ],
   "source": [
    "from sklearn.tree import DecisionTreeClassifier\n",
    "classifier = DecisionTreeClassifier(criterion='gini', random_state = 0)\n",
    "classifier.fit(X_train, y_train)"
   ]
  },
  {
   "cell_type": "markdown",
   "id": "earlier-spare",
   "metadata": {},
   "source": [
    "#### Árbol de clasificación - Fase de predicción"
   ]
  },
  {
   "cell_type": "code",
   "execution_count": 26,
   "id": "measured-square",
   "metadata": {},
   "outputs": [
    {
     "name": "stdout",
     "output_type": "stream",
     "text": [
      "[ 0  0  0 ...  0 -1  0]\n",
      "219\n"
     ]
    }
   ],
   "source": [
    "y_pred = classifier.predict(X_test)\n",
    "print(y_test- y_pred)\n",
    "print(sum(y_pred-y_test))\n"
   ]
  },
  {
   "cell_type": "markdown",
   "id": "statewide-wilson",
   "metadata": {},
   "source": [
    "#### MATRIZ DE CONFUSIÓN"
   ]
  },
  {
   "cell_type": "code",
   "execution_count": 27,
   "id": "interested-board",
   "metadata": {},
   "outputs": [
    {
     "name": "stdout",
     "output_type": "stream",
     "text": [
      "[[11727  1312]\n",
      " [ 1093   171]]\n"
     ]
    }
   ],
   "source": [
    "from sklearn.metrics import confusion_matrix, accuracy_score\n",
    "cm = confusion_matrix(y_test, y_pred)\n",
    "print(cm)"
   ]
  },
  {
   "cell_type": "code",
   "execution_count": 28,
   "id": "mexican-pressure",
   "metadata": {},
   "outputs": [
    {
     "name": "stdout",
     "output_type": "stream",
     "text": [
      "Total Casos = 14303\n",
      "Verdaderos Positivos: 171\n",
      "Verdaderos Negativos: 11727\n",
      "Falsos Positivos:  1312\n",
      "Falsos Negativos:  1093\n",
      "Exactitud = 0.83\n",
      "Precisión = 0.12\n",
      "Sensibilidad = 0.14\n",
      "Especificidad = 0.9\n"
     ]
    }
   ],
   "source": [
    "accuracy_score(y_test, y_pred)\n",
    "TP = cm[1][1]\n",
    "TN = cm[0][0]\n",
    "FN = cm[1][0]\n",
    "FP = cm[0][1]\n",
    "total_casos = TP + FP + TN + FN\n",
    "print(\"Total Casos =\", total_casos)\n",
    "print(\"Verdaderos Positivos:\", TP)\n",
    "print(\"Verdaderos Negativos:\", TN)\n",
    "print(\"Falsos Positivos: \", FP)\n",
    "print(\"Falsos Negativos: \", FN)\n",
    "exactitud = ((TP+TN) / (TP+FP+TN+FN))\n",
    "print(f\"Exactitud = {round(exactitud,2)}\")\n",
    "precision = (TP / (TP+FP))\n",
    "print(f\"Precisión = {round(precision,2)}\")\n",
    "sensitividad = (TP / (TP + FN))\n",
    "print(f\"Sensibilidad = {round(sensitividad,2)}\")\n",
    "especificidad = (TN/(TN+FP))\n",
    "print(f\"Especificidad = {round(especificidad, 2)}\")"
   ]
  },
  {
   "cell_type": "code",
   "execution_count": null,
   "id": "underlying-hayes",
   "metadata": {},
   "outputs": [],
   "source": []
  }
 ],
 "metadata": {
  "kernelspec": {
   "display_name": "Python 3",
   "language": "python",
   "name": "python3"
  },
  "language_info": {
   "codemirror_mode": {
    "name": "ipython",
    "version": 3
   },
   "file_extension": ".py",
   "mimetype": "text/x-python",
   "name": "python",
   "nbconvert_exporter": "python",
   "pygments_lexer": "ipython3",
   "version": "3.8.5"
  }
 },
 "nbformat": 4,
 "nbformat_minor": 5
}
