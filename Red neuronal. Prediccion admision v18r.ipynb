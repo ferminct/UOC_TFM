{
 "cells": [
  {
   "cell_type": "markdown",
   "id": "charitable-rally",
   "metadata": {},
   "source": [
    "### IIMPORTAR LIBRERIAS"
   ]
  },
  {
   "cell_type": "code",
   "execution_count": 1,
   "id": "civic-dubai",
   "metadata": {},
   "outputs": [],
   "source": [
    "import numpy as np\n",
    "import pandas as pd\n",
    "import matplotlib.pyplot as plt\n",
    "import tensorflow as tf"
   ]
  },
  {
   "cell_type": "markdown",
   "id": "proved-elder",
   "metadata": {},
   "source": [
    "##### Se consideran todas las variables y se realiza el approach 3\n",
    "#### Se incrementa el número de neuronas por capas como en los ficheros anteriores 60/120/60 (antes 38/76/38) - epochs = 500"
   ]
  },
  {
   "cell_type": "markdown",
   "id": "supreme-continent",
   "metadata": {},
   "source": [
    "### CARGAR LIBRERIAS DESDE .CSV"
   ]
  },
  {
   "cell_type": "code",
   "execution_count": 2,
   "id": "promotional-theta",
   "metadata": {},
   "outputs": [],
   "source": [
    "path_base = \"C:\\\\Users\\\\fermi\\\\UOC\\\\Master UOC. Posgrado en inteligencia de negocio\\\\TFM\\\\Ficheros\"\n",
    "dataset_0 = pd.read_csv(path_base + \"\\diabetic_set2.csv\")"
   ]
  },
  {
   "cell_type": "code",
   "execution_count": 3,
   "id": "intimate-muslim",
   "metadata": {},
   "outputs": [
    {
     "data": {
      "text/plain": [
       "(71515, 50)"
      ]
     },
     "execution_count": 3,
     "metadata": {},
     "output_type": "execute_result"
    }
   ],
   "source": [
    "dataset_0.shape"
   ]
  },
  {
   "cell_type": "code",
   "execution_count": 4,
   "id": "regulation-ethics",
   "metadata": {},
   "outputs": [],
   "source": [
    "dataset_3 = dataset_0[[\"race\",\"gender\",\"admission_type_id\",\"discharge_disposition_id\",\"admission_source_id\",\"time_in_hospital\",\"num_lab_procedures\",\"num_procedures\",\"num_medications\",\"number_outpatient\",\"number_emergency\",\"number_inpatient\",\"number_diagnoses\",\"max_glu_serum\",\"A1Cresult\",\"metformin\",\"repaglinide\",\"glimepiride\",\"glipizide\",\"glyburide\",\"pioglitazone\",\"rosiglitazone\",\"insulin\",\"change\",\"diabetesMed\",\"age2\",\"diag_1_3\",\"readmitted2_num\"]]"
   ]
  },
  {
   "cell_type": "code",
   "execution_count": 5,
   "id": "noted-president",
   "metadata": {},
   "outputs": [
    {
     "data": {
      "text/plain": [
       "Index(['race', 'gender', 'admission_type_id', 'discharge_disposition_id',\n",
       "       'admission_source_id', 'time_in_hospital', 'num_lab_procedures',\n",
       "       'num_procedures', 'num_medications', 'number_outpatient',\n",
       "       'number_emergency', 'number_inpatient', 'number_diagnoses',\n",
       "       'max_glu_serum', 'A1Cresult', 'metformin', 'repaglinide', 'glimepiride',\n",
       "       'glipizide', 'glyburide', 'pioglitazone', 'rosiglitazone', 'insulin',\n",
       "       'change', 'diabetesMed', 'age2', 'diag_1_3', 'readmitted2_num'],\n",
       "      dtype='object')"
      ]
     },
     "execution_count": 5,
     "metadata": {},
     "output_type": "execute_result"
    }
   ],
   "source": [
    "dataset_3.columns"
   ]
  },
  {
   "cell_type": "code",
   "execution_count": 6,
   "id": "appropriate-programming",
   "metadata": {},
   "outputs": [
    {
     "name": "stdout",
     "output_type": "stream",
     "text": [
      "<class 'pandas.core.frame.DataFrame'>\n",
      "RangeIndex: 71515 entries, 0 to 71514\n",
      "Data columns (total 28 columns):\n",
      " #   Column                    Non-Null Count  Dtype \n",
      "---  ------                    --------------  ----- \n",
      " 0   race                      71515 non-null  object\n",
      " 1   gender                    71515 non-null  object\n",
      " 2   admission_type_id         71515 non-null  int64 \n",
      " 3   discharge_disposition_id  71515 non-null  int64 \n",
      " 4   admission_source_id       71515 non-null  int64 \n",
      " 5   time_in_hospital          71515 non-null  int64 \n",
      " 6   num_lab_procedures        71515 non-null  int64 \n",
      " 7   num_procedures            71515 non-null  int64 \n",
      " 8   num_medications           71515 non-null  int64 \n",
      " 9   number_outpatient         71515 non-null  int64 \n",
      " 10  number_emergency          71515 non-null  int64 \n",
      " 11  number_inpatient          71515 non-null  int64 \n",
      " 12  number_diagnoses          71515 non-null  int64 \n",
      " 13  max_glu_serum             71515 non-null  object\n",
      " 14  A1Cresult                 71515 non-null  object\n",
      " 15  metformin                 71515 non-null  object\n",
      " 16  repaglinide               71515 non-null  object\n",
      " 17  glimepiride               71515 non-null  object\n",
      " 18  glipizide                 71515 non-null  object\n",
      " 19  glyburide                 71515 non-null  object\n",
      " 20  pioglitazone              71515 non-null  object\n",
      " 21  rosiglitazone             71515 non-null  object\n",
      " 22  insulin                   71515 non-null  object\n",
      " 23  change                    71515 non-null  object\n",
      " 24  diabetesMed               71515 non-null  object\n",
      " 25  age2                      71515 non-null  object\n",
      " 26  diag_1_3                  71515 non-null  object\n",
      " 27  readmitted2_num           71515 non-null  int64 \n",
      "dtypes: int64(12), object(16)\n",
      "memory usage: 15.3+ MB\n"
     ]
    }
   ],
   "source": [
    "dataset_3.info()"
   ]
  },
  {
   "cell_type": "markdown",
   "id": "revolutionary-intellectual",
   "metadata": {},
   "source": [
    "### TRANSFORMACIÓN DE VARIABLES CATEGÓRICAS A NUMÉRICAS"
   ]
  },
  {
   "cell_type": "code",
   "execution_count": 7,
   "id": "after-romantic",
   "metadata": {},
   "outputs": [],
   "source": [
    "dataset_4 = pd.get_dummies(dataset_3, columns=[\"race\",\"gender\",\"max_glu_serum\",\"A1Cresult\",\"metformin\",\"repaglinide\",\"glimepiride\",\"glipizide\",\"glyburide\",\"pioglitazone\",\"rosiglitazone\",\"insulin\",\"change\",\"diabetesMed\",\"age2\",\"diag_1_3\"], prefix=[\"race\",\"gend\",\"max_\",\"A1Cr\",\"metf\",\"repa\",\"glir\",\"gliz\",\"glyb\",\"piog\",\"rosi\",\"insu\",\"chan\",\"diab\",\"age2\",\"diag\"])"
   ]
  },
  {
   "cell_type": "code",
   "execution_count": 8,
   "id": "danish-supplier",
   "metadata": {},
   "outputs": [
    {
     "data": {
      "text/plain": [
       "admission_type_id            2\n",
       "discharge_disposition_id     1\n",
       "admission_source_id          1\n",
       "time_in_hospital             8\n",
       "num_lab_procedures          77\n",
       "                            ..\n",
       "diag_Lesion                  0\n",
       "diag_Musculoesqueletico      0\n",
       "diag_Neoplasias              0\n",
       "diag_Otros                   0\n",
       "diag_Respiratorio            0\n",
       "Name: 0, Length: 75, dtype: int64"
      ]
     },
     "execution_count": 8,
     "metadata": {},
     "output_type": "execute_result"
    }
   ],
   "source": [
    "dataset_4.iloc[0]"
   ]
  },
  {
   "cell_type": "code",
   "execution_count": 9,
   "id": "thousand-jordan",
   "metadata": {},
   "outputs": [
    {
     "data": {
      "text/plain": [
       "(71515, 75)"
      ]
     },
     "execution_count": 9,
     "metadata": {},
     "output_type": "execute_result"
    }
   ],
   "source": [
    "dataset_4.shape"
   ]
  },
  {
   "cell_type": "code",
   "execution_count": 10,
   "id": "resistant-southeast",
   "metadata": {},
   "outputs": [],
   "source": [
    "# dataset_4.to_excel('v16.fin.xlsx', index = False)"
   ]
  },
  {
   "cell_type": "markdown",
   "id": "facial-kinase",
   "metadata": {},
   "source": [
    "### ESTABLECER VARIABLES DEPENDIENTES E INDEPENDIENTES"
   ]
  },
  {
   "cell_type": "code",
   "execution_count": 11,
   "id": "peaceful-ontario",
   "metadata": {},
   "outputs": [
    {
     "data": {
      "text/html": [
       "<div>\n",
       "<style scoped>\n",
       "    .dataframe tbody tr th:only-of-type {\n",
       "        vertical-align: middle;\n",
       "    }\n",
       "\n",
       "    .dataframe tbody tr th {\n",
       "        vertical-align: top;\n",
       "    }\n",
       "\n",
       "    .dataframe thead th {\n",
       "        text-align: right;\n",
       "    }\n",
       "</style>\n",
       "<table border=\"1\" class=\"dataframe\">\n",
       "  <thead>\n",
       "    <tr style=\"text-align: right;\">\n",
       "      <th></th>\n",
       "      <th>admission_type_id</th>\n",
       "      <th>discharge_disposition_id</th>\n",
       "      <th>admission_source_id</th>\n",
       "      <th>time_in_hospital</th>\n",
       "      <th>num_lab_procedures</th>\n",
       "      <th>num_procedures</th>\n",
       "      <th>num_medications</th>\n",
       "      <th>number_outpatient</th>\n",
       "      <th>number_emergency</th>\n",
       "      <th>number_inpatient</th>\n",
       "      <th>...</th>\n",
       "      <th>age2_[60-100)</th>\n",
       "      <th>diag_Circulatorio</th>\n",
       "      <th>diag_Diabetes</th>\n",
       "      <th>diag_Digestivo</th>\n",
       "      <th>diag_Genitourinario</th>\n",
       "      <th>diag_Lesion</th>\n",
       "      <th>diag_Musculoesqueletico</th>\n",
       "      <th>diag_Neoplasias</th>\n",
       "      <th>diag_Otros</th>\n",
       "      <th>diag_Respiratorio</th>\n",
       "    </tr>\n",
       "  </thead>\n",
       "  <tbody>\n",
       "    <tr>\n",
       "      <th>0</th>\n",
       "      <td>2</td>\n",
       "      <td>1</td>\n",
       "      <td>1</td>\n",
       "      <td>8</td>\n",
       "      <td>77</td>\n",
       "      <td>6</td>\n",
       "      <td>33</td>\n",
       "      <td>0</td>\n",
       "      <td>0</td>\n",
       "      <td>0</td>\n",
       "      <td>...</td>\n",
       "      <td>0</td>\n",
       "      <td>1</td>\n",
       "      <td>0</td>\n",
       "      <td>0</td>\n",
       "      <td>0</td>\n",
       "      <td>0</td>\n",
       "      <td>0</td>\n",
       "      <td>0</td>\n",
       "      <td>0</td>\n",
       "      <td>0</td>\n",
       "    </tr>\n",
       "    <tr>\n",
       "      <th>1</th>\n",
       "      <td>3</td>\n",
       "      <td>1</td>\n",
       "      <td>1</td>\n",
       "      <td>2</td>\n",
       "      <td>49</td>\n",
       "      <td>1</td>\n",
       "      <td>11</td>\n",
       "      <td>0</td>\n",
       "      <td>0</td>\n",
       "      <td>0</td>\n",
       "      <td>...</td>\n",
       "      <td>0</td>\n",
       "      <td>0</td>\n",
       "      <td>0</td>\n",
       "      <td>0</td>\n",
       "      <td>0</td>\n",
       "      <td>0</td>\n",
       "      <td>1</td>\n",
       "      <td>0</td>\n",
       "      <td>0</td>\n",
       "      <td>0</td>\n",
       "    </tr>\n",
       "    <tr>\n",
       "      <th>2</th>\n",
       "      <td>1</td>\n",
       "      <td>3</td>\n",
       "      <td>7</td>\n",
       "      <td>4</td>\n",
       "      <td>68</td>\n",
       "      <td>2</td>\n",
       "      <td>23</td>\n",
       "      <td>0</td>\n",
       "      <td>0</td>\n",
       "      <td>0</td>\n",
       "      <td>...</td>\n",
       "      <td>1</td>\n",
       "      <td>0</td>\n",
       "      <td>0</td>\n",
       "      <td>0</td>\n",
       "      <td>0</td>\n",
       "      <td>1</td>\n",
       "      <td>0</td>\n",
       "      <td>0</td>\n",
       "      <td>0</td>\n",
       "      <td>0</td>\n",
       "    </tr>\n",
       "  </tbody>\n",
       "</table>\n",
       "<p>3 rows × 74 columns</p>\n",
       "</div>"
      ],
      "text/plain": [
       "   admission_type_id  discharge_disposition_id  admission_source_id  \\\n",
       "0                  2                         1                    1   \n",
       "1                  3                         1                    1   \n",
       "2                  1                         3                    7   \n",
       "\n",
       "   time_in_hospital  num_lab_procedures  num_procedures  num_medications  \\\n",
       "0                 8                  77               6               33   \n",
       "1                 2                  49               1               11   \n",
       "2                 4                  68               2               23   \n",
       "\n",
       "   number_outpatient  number_emergency  number_inpatient  ...  age2_[60-100)  \\\n",
       "0                  0                 0                 0  ...              0   \n",
       "1                  0                 0                 0  ...              0   \n",
       "2                  0                 0                 0  ...              1   \n",
       "\n",
       "   diag_Circulatorio  diag_Diabetes  diag_Digestivo  diag_Genitourinario  \\\n",
       "0                  1              0               0                    0   \n",
       "1                  0              0               0                    0   \n",
       "2                  0              0               0                    0   \n",
       "\n",
       "   diag_Lesion  diag_Musculoesqueletico  diag_Neoplasias  diag_Otros  \\\n",
       "0            0                        0                0           0   \n",
       "1            0                        1                0           0   \n",
       "2            1                        0                0           0   \n",
       "\n",
       "   diag_Respiratorio  \n",
       "0                  0  \n",
       "1                  0  \n",
       "2                  0  \n",
       "\n",
       "[3 rows x 74 columns]"
      ]
     },
     "execution_count": 11,
     "metadata": {},
     "output_type": "execute_result"
    }
   ],
   "source": [
    "X = dataset_4.iloc[:, np.r_[0:11, 12:74,74]]\n",
    "y = dataset_4.iloc[:,-64].values\n",
    "X.head(3)"
   ]
  },
  {
   "cell_type": "code",
   "execution_count": 12,
   "id": "growing-poetry",
   "metadata": {},
   "outputs": [
    {
     "data": {
      "text/plain": [
       "Index(['admission_type_id', 'discharge_disposition_id', 'admission_source_id',\n",
       "       'time_in_hospital', 'num_lab_procedures', 'num_procedures',\n",
       "       'num_medications', 'number_outpatient', 'number_emergency',\n",
       "       'number_inpatient', 'number_diagnoses', 'race_AfricanAmerican',\n",
       "       'race_Asian', 'race_Caucasian', 'race_Hispanic', 'race_Other',\n",
       "       'gend_Female', 'gend_Male', 'max__>200', 'max__>300', 'max__None',\n",
       "       'max__Norm', 'A1Cr_>7', 'A1Cr_>8', 'A1Cr_None', 'A1Cr_Norm',\n",
       "       'metf_Down', 'metf_No', 'metf_Steady', 'metf_Up', 'repa_Down',\n",
       "       'repa_No', 'repa_Steady', 'repa_Up', 'glir_Down', 'glir_No',\n",
       "       'glir_Steady', 'glir_Up', 'gliz_Down', 'gliz_No', 'gliz_Steady',\n",
       "       'gliz_Up', 'glyb_Down', 'glyb_No', 'glyb_Steady', 'glyb_Up',\n",
       "       'piog_Down', 'piog_No', 'piog_Steady', 'piog_Up', 'rosi_Down',\n",
       "       'rosi_No', 'rosi_Steady', 'rosi_Up', 'insu_Down', 'insu_No',\n",
       "       'insu_Steady', 'insu_Up', 'chan_Ch', 'chan_No', 'diab_No', 'diab_Yes',\n",
       "       'age2_[0-30)', 'age2_[30-60)', 'age2_[60-100)', 'diag_Circulatorio',\n",
       "       'diag_Diabetes', 'diag_Digestivo', 'diag_Genitourinario', 'diag_Lesion',\n",
       "       'diag_Musculoesqueletico', 'diag_Neoplasias', 'diag_Otros',\n",
       "       'diag_Respiratorio'],\n",
       "      dtype='object')"
      ]
     },
     "execution_count": 12,
     "metadata": {},
     "output_type": "execute_result"
    }
   ],
   "source": [
    "X.columns"
   ]
  },
  {
   "cell_type": "code",
   "execution_count": 13,
   "id": "distinguished-momentum",
   "metadata": {},
   "outputs": [
    {
     "data": {
      "text/plain": [
       "(71515, 74)"
      ]
     },
     "execution_count": 13,
     "metadata": {},
     "output_type": "execute_result"
    }
   ],
   "source": [
    "X.shape"
   ]
  },
  {
   "cell_type": "code",
   "execution_count": 14,
   "id": "mediterranean-radius",
   "metadata": {},
   "outputs": [
    {
     "data": {
      "text/plain": [
       "array([1, 0, 0, ..., 0, 0, 0], dtype=int64)"
      ]
     },
     "execution_count": 14,
     "metadata": {},
     "output_type": "execute_result"
    }
   ],
   "source": [
    "y"
   ]
  },
  {
   "cell_type": "markdown",
   "id": "russian-wheat",
   "metadata": {},
   "source": [
    "### DATOS DE ENTRENAMIENTO Y DE TEST"
   ]
  },
  {
   "cell_type": "code",
   "execution_count": 15,
   "id": "surgical-spanish",
   "metadata": {},
   "outputs": [],
   "source": [
    "from sklearn.model_selection import train_test_split\n",
    "X_train, X_test, y_train, y_test = train_test_split(X, y, test_size = 0.20, random_state =1)"
   ]
  },
  {
   "cell_type": "markdown",
   "id": "ruled-cooking",
   "metadata": {},
   "source": [
    "#### Datos test vs Datos train. Casos totales, Casos Positivos y Casos Negativos"
   ]
  },
  {
   "cell_type": "code",
   "execution_count": 16,
   "id": "breathing-archive",
   "metadata": {},
   "outputs": [
    {
     "name": "stdout",
     "output_type": "stream",
     "text": [
      "Total registros del train 57212\n",
      "Total positivos en y_train:  5029\n",
      "Porcentaje de positivos:  8.79 %\n",
      "Total negativos en y_train:  52183\n",
      "Porcentaje de negativos 91.21 %\n"
     ]
    }
   ],
   "source": [
    "total = len(y_train)\n",
    "one_count = np.sum(y_train)\n",
    "one_count_pct=one_count/total\n",
    "zero_count = total - one_count\n",
    "zero_count_pct = 1 - one_count_pct\n",
    "\n",
    "print(\"Total registros del train\", total)\n",
    "print(\"Total positivos en y_train: \", one_count)\n",
    "print(\"Porcentaje de positivos: \", round(one_count_pct*100,2), \"%\")\n",
    "print(\"Total negativos en y_train: \", zero_count)\n",
    "print(\"Porcentaje de negativos\", round(zero_count_pct*100,2), \"%\")"
   ]
  },
  {
   "cell_type": "code",
   "execution_count": 17,
   "id": "necessary-sight",
   "metadata": {},
   "outputs": [
    {
     "name": "stdout",
     "output_type": "stream",
     "text": [
      "Total registros del test 14303\n",
      "Total positivos en y_test:  1264\n",
      "Porcentaje de positivos:  8.84 %\n",
      "Total negativos en y_test:  13039\n",
      "Porcentaje de negativos 91.16 %\n"
     ]
    }
   ],
   "source": [
    "total = len(y_test)\n",
    "one_count = np.sum(y_test)\n",
    "one_count_pct=one_count/total\n",
    "zero_count = total - one_count\n",
    "zero_count_pct = 1 - one_count_pct\n",
    "\n",
    "print(\"Total registros del test\", total)\n",
    "print(\"Total positivos en y_test: \", one_count)\n",
    "print(\"Porcentaje de positivos: \", round(one_count_pct*100,2), \"%\")\n",
    "print(\"Total negativos en y_test: \", zero_count)\n",
    "print(\"Porcentaje de negativos\", round(zero_count_pct*100,2), \"%\")"
   ]
  },
  {
   "cell_type": "markdown",
   "id": "considerable-bennett",
   "metadata": {},
   "source": [
    "#### ESTANDARIZACIÓN DE DATOS"
   ]
  },
  {
   "cell_type": "code",
   "execution_count": 18,
   "id": "suspended-norman",
   "metadata": {},
   "outputs": [],
   "source": [
    "from sklearn.preprocessing import StandardScaler\n",
    "sc = StandardScaler()\n",
    "X_train = sc.fit_transform(X_train)\n",
    "X_test = sc.transform(X_test)"
   ]
  },
  {
   "cell_type": "markdown",
   "id": "detailed-valuation",
   "metadata": {},
   "source": [
    "#### Agrega Capas de entrada y Primera Capa Oculta"
   ]
  },
  {
   "cell_type": "code",
   "execution_count": 19,
   "id": "extraordinary-hands",
   "metadata": {},
   "outputs": [],
   "source": [
    "rnclas = tf.keras.models.Sequential()\n",
    "rnclas.add(tf.keras.layers.Dense(units = 268, activation ='relu'))"
   ]
  },
  {
   "cell_type": "markdown",
   "id": "approved-madrid",
   "metadata": {},
   "source": [
    "#### Agrega Segunda Capa Oculta"
   ]
  },
  {
   "cell_type": "code",
   "execution_count": 20,
   "id": "amber-blowing",
   "metadata": {},
   "outputs": [],
   "source": [
    "# rnclas.add(tf.keras.layers.Dense(units = 268, activation ='relu'))"
   ]
  },
  {
   "cell_type": "markdown",
   "id": "signal-exposure",
   "metadata": {},
   "source": [
    "#### Agregar Tercera Capa Oculta"
   ]
  },
  {
   "cell_type": "code",
   "execution_count": 21,
   "id": "raised-given",
   "metadata": {},
   "outputs": [],
   "source": [
    "# rnclas.add(tf.keras.layers.Dense(units = 60, activation ='relu'))"
   ]
  },
  {
   "cell_type": "markdown",
   "id": "enhanced-diversity",
   "metadata": {},
   "source": [
    "#### Agrega Capa de Salida"
   ]
  },
  {
   "cell_type": "code",
   "execution_count": 22,
   "id": "prescription-river",
   "metadata": {},
   "outputs": [],
   "source": [
    "rnclas.add(tf.keras.layers.Dense(units = 1, activation = 'sigmoid'))"
   ]
  },
  {
   "cell_type": "markdown",
   "id": "worthy-turning",
   "metadata": {},
   "source": [
    "#### Compilar Red Neuronal"
   ]
  },
  {
   "cell_type": "code",
   "execution_count": 23,
   "id": "mobile-venezuela",
   "metadata": {},
   "outputs": [],
   "source": [
    "rnclas.compile(optimizer = \"adam\", loss = \"binary_crossentropy\", metrics = [\"accuracy\"])"
   ]
  },
  {
   "cell_type": "markdown",
   "id": "senior-posting",
   "metadata": {},
   "source": [
    "#### Entrenar Red Neuronal"
   ]
  },
  {
   "cell_type": "code",
   "execution_count": 24,
   "id": "democratic-glasgow",
   "metadata": {},
   "outputs": [
    {
     "name": "stdout",
     "output_type": "stream",
     "text": [
      "Epoch 1/100\n",
      "1788/1788 [==============================] - 2s 920us/step - loss: 0.2994 - accuracy: 0.9114\n",
      "Epoch 2/100\n",
      "1788/1788 [==============================] - 2s 922us/step - loss: 0.2903 - accuracy: 0.9120\n",
      "Epoch 3/100\n",
      "1788/1788 [==============================] - 2s 932us/step - loss: 0.2883 - accuracy: 0.9120\n",
      "Epoch 4/100\n",
      "1788/1788 [==============================] - 2s 1ms/step - loss: 0.2868 - accuracy: 0.9121\n",
      "Epoch 5/100\n",
      "1788/1788 [==============================] - 2s 955us/step - loss: 0.2850 - accuracy: 0.9121\n",
      "Epoch 6/100\n",
      "1788/1788 [==============================] - 2s 976us/step - loss: 0.2843 - accuracy: 0.9122\n",
      "Epoch 7/100\n",
      "1788/1788 [==============================] - 2s 954us/step - loss: 0.2824 - accuracy: 0.9122\n",
      "Epoch 8/100\n",
      "1788/1788 [==============================] - 2s 981us/step - loss: 0.2815 - accuracy: 0.9121\n",
      "Epoch 9/100\n",
      "1788/1788 [==============================] - 2s 960us/step - loss: 0.2800 - accuracy: 0.9123\n",
      "Epoch 10/100\n",
      "1788/1788 [==============================] - 2s 1ms/step - loss: 0.2788 - accuracy: 0.9123\n",
      "Epoch 11/100\n",
      "1788/1788 [==============================] - 2s 979us/step - loss: 0.2777 - accuracy: 0.9125\n",
      "Epoch 12/100\n",
      "1788/1788 [==============================] - 2s 1ms/step - loss: 0.2764 - accuracy: 0.9125\n",
      "Epoch 13/100\n",
      "1788/1788 [==============================] - 2s 938us/step - loss: 0.2751 - accuracy: 0.9126\n",
      "Epoch 14/100\n",
      "1788/1788 [==============================] - 2s 936us/step - loss: 0.2742 - accuracy: 0.9128\n",
      "Epoch 15/100\n",
      "1788/1788 [==============================] - 2s 950us/step - loss: 0.2727 - accuracy: 0.9130\n",
      "Epoch 16/100\n",
      "1788/1788 [==============================] - ETA: 0s - loss: 0.2714 - accuracy: 0.91 - 2s 1ms/step - loss: 0.2717 - accuracy: 0.9132\n",
      "Epoch 17/100\n",
      "1788/1788 [==============================] - 2s 988us/step - loss: 0.2702 - accuracy: 0.9130\n",
      "Epoch 18/100\n",
      "1788/1788 [==============================] - 2s 1ms/step - loss: 0.2687 - accuracy: 0.9136\n",
      "Epoch 19/100\n",
      "1788/1788 [==============================] - 2s 947us/step - loss: 0.2671 - accuracy: 0.9135\n",
      "Epoch 20/100\n",
      "1788/1788 [==============================] - 2s 934us/step - loss: 0.2650 - accuracy: 0.9139\n",
      "Epoch 21/100\n",
      "1788/1788 [==============================] - 2s 1ms/step - loss: 0.2637 - accuracy: 0.9141\n",
      "Epoch 22/100\n",
      "1788/1788 [==============================] - 2s 962us/step - loss: 0.2621 - accuracy: 0.9141\n",
      "Epoch 23/100\n",
      "1788/1788 [==============================] - 2s 1ms/step - loss: 0.2603 - accuracy: 0.9142\n",
      "Epoch 24/100\n",
      "1788/1788 [==============================] - 2s 1ms/step - loss: 0.2579 - accuracy: 0.9148\n",
      "Epoch 25/100\n",
      "1788/1788 [==============================] - 2s 1ms/step - loss: 0.2559 - accuracy: 0.9148\n",
      "Epoch 26/100\n",
      "1788/1788 [==============================] - 2s 978us/step - loss: 0.2534 - accuracy: 0.9154\n",
      "Epoch 27/100\n",
      "1788/1788 [==============================] - 2s 1ms/step - loss: 0.2518 - accuracy: 0.9163\n",
      "Epoch 28/100\n",
      "1788/1788 [==============================] - 2s 1ms/step - loss: 0.2506 - accuracy: 0.9158\n",
      "Epoch 29/100\n",
      "1788/1788 [==============================] - 2s 1ms/step - loss: 0.2473 - accuracy: 0.9169\n",
      "Epoch 30/100\n",
      "1788/1788 [==============================] - 2s 1ms/step - loss: 0.2453 - accuracy: 0.9165\n",
      "Epoch 31/100\n",
      "1788/1788 [==============================] - 2s 1ms/step - loss: 0.2435 - accuracy: 0.9175\n",
      "Epoch 32/100\n",
      "1788/1788 [==============================] - 2s 1ms/step - loss: 0.2406 - accuracy: 0.9180\n",
      "Epoch 33/100\n",
      "1788/1788 [==============================] - 2s 957us/step - loss: 0.2387 - accuracy: 0.9186\n",
      "Epoch 34/100\n",
      "1788/1788 [==============================] - 2s 1ms/step - loss: 0.2364 - accuracy: 0.9189\n",
      "Epoch 35/100\n",
      "1788/1788 [==============================] - 2s 1ms/step - loss: 0.2341 - accuracy: 0.9193\n",
      "Epoch 36/100\n",
      "1788/1788 [==============================] - 2s 1ms/step - loss: 0.2322 - accuracy: 0.9199\n",
      "Epoch 37/100\n",
      "1788/1788 [==============================] - 2s 954us/step - loss: 0.2297 - accuracy: 0.9206\n",
      "Epoch 38/100\n",
      "1788/1788 [==============================] - 2s 923us/step - loss: 0.2291 - accuracy: 0.9203\n",
      "Epoch 39/100\n",
      "1788/1788 [==============================] - 2s 977us/step - loss: 0.2259 - accuracy: 0.9209\n",
      "Epoch 40/100\n",
      "1788/1788 [==============================] - 2s 946us/step - loss: 0.2250 - accuracy: 0.9219\n",
      "Epoch 41/100\n",
      "1788/1788 [==============================] - 2s 1ms/step - loss: 0.2233 - accuracy: 0.9220\n",
      "Epoch 42/100\n",
      "1788/1788 [==============================] - 2s 1ms/step - loss: 0.2222 - accuracy: 0.9220\n",
      "Epoch 43/100\n",
      "1788/1788 [==============================] - 2s 1ms/step - loss: 0.2193 - accuracy: 0.9234\n",
      "Epoch 44/100\n",
      "1788/1788 [==============================] - 2s 964us/step - loss: 0.2173 - accuracy: 0.9240\n",
      "Epoch 45/100\n",
      "1788/1788 [==============================] - 2s 917us/step - loss: 0.2164 - accuracy: 0.9240\n",
      "Epoch 46/100\n",
      "1788/1788 [==============================] - 2s 1ms/step - loss: 0.2158 - accuracy: 0.9248\n",
      "Epoch 47/100\n",
      "1788/1788 [==============================] - 2s 1ms/step - loss: 0.2121 - accuracy: 0.9253\n",
      "Epoch 48/100\n",
      "1788/1788 [==============================] - 2s 1ms/step - loss: 0.2120 - accuracy: 0.9256\n",
      "Epoch 49/100\n",
      "1788/1788 [==============================] - 2s 981us/step - loss: 0.2094 - accuracy: 0.9266\n",
      "Epoch 50/100\n",
      "1788/1788 [==============================] - 2s 1ms/step - loss: 0.2088 - accuracy: 0.9259\n",
      "Epoch 51/100\n",
      "1788/1788 [==============================] - 2s 1ms/step - loss: 0.2073 - accuracy: 0.9266\n",
      "Epoch 52/100\n",
      "1788/1788 [==============================] - 2s 996us/step - loss: 0.2058 - accuracy: 0.9265\n",
      "Epoch 53/100\n",
      "1788/1788 [==============================] - 2s 1ms/step - loss: 0.2042 - accuracy: 0.9281\n",
      "Epoch 54/100\n",
      "1788/1788 [==============================] - 2s 1ms/step - loss: 0.2033 - accuracy: 0.9272\n",
      "Epoch 55/100\n",
      "1788/1788 [==============================] - 2s 1ms/step - loss: 0.2011 - accuracy: 0.9278\n",
      "Epoch 56/100\n",
      "1788/1788 [==============================] - 2s 1ms/step - loss: 0.2014 - accuracy: 0.9276\n",
      "Epoch 57/100\n",
      "1788/1788 [==============================] - 2s 980us/step - loss: 0.1982 - accuracy: 0.9287\n",
      "Epoch 58/100\n",
      "1788/1788 [==============================] - 2s 1ms/step - loss: 0.2006 - accuracy: 0.9287\n",
      "Epoch 59/100\n",
      "1788/1788 [==============================] - 2s 1ms/step - loss: 0.1972 - accuracy: 0.9291\n",
      "Epoch 60/100\n",
      "1788/1788 [==============================] - 2s 1ms/step - loss: 0.1976 - accuracy: 0.9300\n",
      "Epoch 61/100\n",
      "1788/1788 [==============================] - 2s 945us/step - loss: 0.1954 - accuracy: 0.9300\n",
      "Epoch 62/100\n",
      "1788/1788 [==============================] - 2s 1ms/step - loss: 0.1934 - accuracy: 0.9308\n",
      "Epoch 63/100\n",
      "1788/1788 [==============================] - 2s 1ms/step - loss: 0.1922 - accuracy: 0.9307\n",
      "Epoch 64/100\n",
      "1788/1788 [==============================] - 2s 1ms/step - loss: 0.1914 - accuracy: 0.9314\n",
      "Epoch 65/100\n",
      "1788/1788 [==============================] - 2s 1ms/step - loss: 0.1905 - accuracy: 0.9309\n",
      "Epoch 66/100\n",
      "1788/1788 [==============================] - 2s 990us/step - loss: 0.1902 - accuracy: 0.9324\n",
      "Epoch 67/100\n",
      "1788/1788 [==============================] - 2s 1ms/step - loss: 0.1875 - accuracy: 0.9314\n",
      "Epoch 68/100\n",
      "1788/1788 [==============================] - 2s 1ms/step - loss: 0.1886 - accuracy: 0.9327\n",
      "Epoch 69/100\n",
      "1788/1788 [==============================] - 2s 997us/step - loss: 0.1870 - accuracy: 0.9326\n",
      "Epoch 70/100\n",
      "1788/1788 [==============================] - 2s 946us/step - loss: 0.1848 - accuracy: 0.9320\n",
      "Epoch 71/100\n",
      "1788/1788 [==============================] - 2s 1ms/step - loss: 0.1847 - accuracy: 0.9332\n",
      "Epoch 72/100\n",
      "1788/1788 [==============================] - 2s 946us/step - loss: 0.1827 - accuracy: 0.9338\n",
      "Epoch 73/100\n",
      "1788/1788 [==============================] - 2s 1ms/step - loss: 0.1852 - accuracy: 0.9336\n",
      "Epoch 74/100\n",
      "1788/1788 [==============================] - 2s 1ms/step - loss: 0.1843 - accuracy: 0.9337\n",
      "Epoch 75/100\n",
      "1788/1788 [==============================] - 2s 1ms/step - loss: 0.1832 - accuracy: 0.9339\n",
      "Epoch 76/100\n",
      "1788/1788 [==============================] - 2s 1ms/step - loss: 0.1803 - accuracy: 0.9339\n",
      "Epoch 77/100\n",
      "1788/1788 [==============================] - 2s 1ms/step - loss: 0.1796 - accuracy: 0.9350\n",
      "Epoch 78/100\n"
     ]
    },
    {
     "name": "stdout",
     "output_type": "stream",
     "text": [
      "1788/1788 [==============================] - 2s 1ms/step - loss: 0.1798 - accuracy: 0.9339\n",
      "Epoch 79/100\n",
      "1788/1788 [==============================] - 2s 1ms/step - loss: 0.1771 - accuracy: 0.9360\n",
      "Epoch 80/100\n",
      "1788/1788 [==============================] - 2s 1ms/step - loss: 0.1775 - accuracy: 0.9355\n",
      "Epoch 81/100\n",
      "1788/1788 [==============================] - 2s 1ms/step - loss: 0.1763 - accuracy: 0.9360\n",
      "Epoch 82/100\n",
      "1788/1788 [==============================] - 2s 1ms/step - loss: 0.1769 - accuracy: 0.9359\n",
      "Epoch 83/100\n",
      "1788/1788 [==============================] - 2s 1ms/step - loss: 0.1749 - accuracy: 0.9362\n",
      "Epoch 84/100\n",
      "1788/1788 [==============================] - 2s 1ms/step - loss: 0.1769 - accuracy: 0.9353\n",
      "Epoch 85/100\n",
      "1788/1788 [==============================] - 2s 974us/step - loss: 0.1736 - accuracy: 0.9370\n",
      "Epoch 86/100\n",
      "1788/1788 [==============================] - 2s 1ms/step - loss: 0.1731 - accuracy: 0.9362\n",
      "Epoch 87/100\n",
      "1788/1788 [==============================] - 2s 1ms/step - loss: 0.1715 - accuracy: 0.9364\n",
      "Epoch 88/100\n",
      "1788/1788 [==============================] - 2s 1ms/step - loss: 0.1705 - accuracy: 0.9367\n",
      "Epoch 89/100\n",
      "1788/1788 [==============================] - 2s 1ms/step - loss: 0.1740 - accuracy: 0.9358\n",
      "Epoch 90/100\n",
      "1788/1788 [==============================] - 2s 1ms/step - loss: 0.1743 - accuracy: 0.9373\n",
      "Epoch 91/100\n",
      "1788/1788 [==============================] - 2s 1ms/step - loss: 0.1719 - accuracy: 0.9371\n",
      "Epoch 92/100\n",
      "1788/1788 [==============================] - 2s 1ms/step - loss: 0.1703 - accuracy: 0.9382\n",
      "Epoch 93/100\n",
      "1788/1788 [==============================] - 2s 1ms/step - loss: 0.1677 - accuracy: 0.9385\n",
      "Epoch 94/100\n",
      "1788/1788 [==============================] - 2s 1ms/step - loss: 0.1710 - accuracy: 0.9374\n",
      "Epoch 95/100\n",
      "1788/1788 [==============================] - 2s 1ms/step - loss: 0.1668 - accuracy: 0.9382\n",
      "Epoch 96/100\n",
      "1788/1788 [==============================] - 2s 1ms/step - loss: 0.1666 - accuracy: 0.9382\n",
      "Epoch 97/100\n",
      "1788/1788 [==============================] - 2s 990us/step - loss: 0.1661 - accuracy: 0.9388\n",
      "Epoch 98/100\n",
      "1788/1788 [==============================] - 2s 1ms/step - loss: 0.1647 - accuracy: 0.9389\n",
      "Epoch 99/100\n",
      "1788/1788 [==============================] - 2s 1ms/step - loss: 0.1643 - accuracy: 0.9388\n",
      "Epoch 100/100\n",
      "1788/1788 [==============================] - 2s 1ms/step - loss: 0.1645 - accuracy: 0.9402\n"
     ]
    },
    {
     "data": {
      "text/plain": [
       "<tensorflow.python.keras.callbacks.History at 0x1cb6ad1f730>"
      ]
     },
     "execution_count": 24,
     "metadata": {},
     "output_type": "execute_result"
    }
   ],
   "source": [
    "rnclas.fit(X_train, y_train, epochs = 100)"
   ]
  },
  {
   "cell_type": "markdown",
   "id": "organizational-general",
   "metadata": {},
   "source": [
    "\n",
    "### PREDICCIONES DE LA MUESTRA DE TEST"
   ]
  },
  {
   "cell_type": "code",
   "execution_count": 25,
   "id": "southern-quilt",
   "metadata": {},
   "outputs": [],
   "source": [
    "y_pred = rnclas.predict(X_test)\n",
    "y_pred_2 = (y_pred>0.5)"
   ]
  },
  {
   "cell_type": "markdown",
   "id": "afraid-weight",
   "metadata": {},
   "source": [
    "### MATRIZ DE CONFUSIÓN"
   ]
  },
  {
   "cell_type": "code",
   "execution_count": 26,
   "id": "comfortable-nerve",
   "metadata": {},
   "outputs": [
    {
     "name": "stdout",
     "output_type": "stream",
     "text": [
      "[[12554   485]\n",
      " [ 1179    85]]\n"
     ]
    }
   ],
   "source": [
    "from sklearn.metrics import confusion_matrix, accuracy_score\n",
    "cm = confusion_matrix(y_test, y_pred_2)\n",
    "print(cm)"
   ]
  },
  {
   "cell_type": "code",
   "execution_count": 27,
   "id": "mexican-pressure",
   "metadata": {},
   "outputs": [
    {
     "name": "stdout",
     "output_type": "stream",
     "text": [
      "Total Casos = 14303\n",
      "Verdaderos Positivos: 85\n",
      "Verdaderos Negativos: 12554\n",
      "Falsos Positivos:  485\n",
      "Falsos Negativos:  1179\n",
      "Exactitud = 0.88\n",
      "Precisión = 0.15\n",
      "Sensitividad = 0.07\n",
      "Especificidad = 0.96\n"
     ]
    }
   ],
   "source": [
    "accuracy_score(y_test, y_pred_2)\n",
    "TP = cm[1][1]\n",
    "TN = cm[0][0]\n",
    "FN = cm[1][0]\n",
    "FP = cm[0][1]\n",
    "total_casos = TP + FP + TN + FN\n",
    "print(\"Total Casos =\", total_casos)\n",
    "print(\"Verdaderos Positivos:\", TP)\n",
    "print(\"Verdaderos Negativos:\", TN)\n",
    "print(\"Falsos Positivos: \", FP)\n",
    "print(\"Falsos Negativos: \", FN)\n",
    "exactitud = ((TP+TN) / (TP+FP+TN+FN))\n",
    "print(f\"Exactitud = {round(exactitud,2)}\")\n",
    "precision = (TP / (TP+FP))\n",
    "print(f\"Precisión = {round(precision,2)}\")\n",
    "sensitividad = (TP / (TP + FN))\n",
    "print(f\"Sensitividad = {round(sensitividad,2)}\")\n",
    "especificidad = (TN/(TN+FP))\n",
    "print(f\"Especificidad = {round(especificidad, 2)}\")"
   ]
  },
  {
   "cell_type": "code",
   "execution_count": null,
   "id": "underlying-hayes",
   "metadata": {},
   "outputs": [],
   "source": []
  }
 ],
 "metadata": {
  "kernelspec": {
   "display_name": "Python 3",
   "language": "python",
   "name": "python3"
  },
  "language_info": {
   "codemirror_mode": {
    "name": "ipython",
    "version": 3
   },
   "file_extension": ".py",
   "mimetype": "text/x-python",
   "name": "python",
   "nbconvert_exporter": "python",
   "pygments_lexer": "ipython3",
   "version": "3.8.5"
  }
 },
 "nbformat": 4,
 "nbformat_minor": 5
}
