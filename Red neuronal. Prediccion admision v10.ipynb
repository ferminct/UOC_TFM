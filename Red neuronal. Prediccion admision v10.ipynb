{
 "cells": [
  {
   "cell_type": "markdown",
   "id": "charitable-rally",
   "metadata": {},
   "source": [
    "### IIMPORTAR LIBRERIAS"
   ]
  },
  {
   "cell_type": "code",
   "execution_count": 1,
   "id": "civic-dubai",
   "metadata": {},
   "outputs": [],
   "source": [
    "import numpy as np\n",
    "import pandas as pd\n",
    "import matplotlib.pyplot as plt\n",
    "import tensorflow as tf"
   ]
  },
  {
   "cell_type": "markdown",
   "id": "supreme-continent",
   "metadata": {},
   "source": [
    "### CARGAR LIBRERIAS DESDE .CSV"
   ]
  },
  {
   "cell_type": "code",
   "execution_count": 2,
   "id": "promotional-theta",
   "metadata": {},
   "outputs": [],
   "source": [
    "path_base = \"C:\\\\Users\\\\fermi\\\\UOC\\\\Master UOC. Posgrado en inteligencia de negocio\\\\TFM\\\\Ficheros\"\n",
    "dataset_1 = pd.read_csv(path_base + \"\\diabetic_num.csv\")"
   ]
  },
  {
   "cell_type": "code",
   "execution_count": 3,
   "id": "intimate-muslim",
   "metadata": {},
   "outputs": [
    {
     "data": {
      "text/plain": [
       "(71515, 45)"
      ]
     },
     "execution_count": 3,
     "metadata": {},
     "output_type": "execute_result"
    }
   ],
   "source": [
    "dataset_1.shape"
   ]
  },
  {
   "cell_type": "markdown",
   "id": "facial-kinase",
   "metadata": {},
   "source": [
    "### ESTABLECER VARIABLES DEPENDIENTES E INDEPENDIENTES"
   ]
  },
  {
   "cell_type": "code",
   "execution_count": 4,
   "id": "peaceful-ontario",
   "metadata": {},
   "outputs": [
    {
     "data": {
      "text/html": [
       "<div>\n",
       "<style scoped>\n",
       "    .dataframe tbody tr th:only-of-type {\n",
       "        vertical-align: middle;\n",
       "    }\n",
       "\n",
       "    .dataframe tbody tr th {\n",
       "        vertical-align: top;\n",
       "    }\n",
       "\n",
       "    .dataframe thead th {\n",
       "        text-align: right;\n",
       "    }\n",
       "</style>\n",
       "<table border=\"1\" class=\"dataframe\">\n",
       "  <thead>\n",
       "    <tr style=\"text-align: right;\">\n",
       "      <th></th>\n",
       "      <th>race_num</th>\n",
       "      <th>gender_num</th>\n",
       "      <th>admission_type_id</th>\n",
       "      <th>discharge_disposition_id</th>\n",
       "      <th>admission_source_id</th>\n",
       "      <th>time_in_hospital</th>\n",
       "      <th>num_lab_procedures</th>\n",
       "      <th>num_procedures</th>\n",
       "      <th>num_medications</th>\n",
       "      <th>number_outpatient</th>\n",
       "      <th>...</th>\n",
       "      <th>insulin_num</th>\n",
       "      <th>glyburide.metformin_num</th>\n",
       "      <th>glipizide.metformin_num</th>\n",
       "      <th>glimepiride.pioglitazone_num</th>\n",
       "      <th>metformin.rosiglitazone_num</th>\n",
       "      <th>metformin.pioglitazone_num</th>\n",
       "      <th>change_num</th>\n",
       "      <th>diabetesMed_num</th>\n",
       "      <th>age2_num</th>\n",
       "      <th>diag_1_3_num</th>\n",
       "    </tr>\n",
       "  </thead>\n",
       "  <tbody>\n",
       "    <tr>\n",
       "      <th>0</th>\n",
       "      <td>3</td>\n",
       "      <td>1</td>\n",
       "      <td>2</td>\n",
       "      <td>1</td>\n",
       "      <td>1</td>\n",
       "      <td>8</td>\n",
       "      <td>77</td>\n",
       "      <td>6</td>\n",
       "      <td>33</td>\n",
       "      <td>0</td>\n",
       "      <td>...</td>\n",
       "      <td>3</td>\n",
       "      <td>2</td>\n",
       "      <td>1</td>\n",
       "      <td>1</td>\n",
       "      <td>1</td>\n",
       "      <td>1</td>\n",
       "      <td>1</td>\n",
       "      <td>2</td>\n",
       "      <td>2</td>\n",
       "      <td>1</td>\n",
       "    </tr>\n",
       "    <tr>\n",
       "      <th>1</th>\n",
       "      <td>3</td>\n",
       "      <td>1</td>\n",
       "      <td>3</td>\n",
       "      <td>1</td>\n",
       "      <td>1</td>\n",
       "      <td>2</td>\n",
       "      <td>49</td>\n",
       "      <td>1</td>\n",
       "      <td>11</td>\n",
       "      <td>0</td>\n",
       "      <td>...</td>\n",
       "      <td>2</td>\n",
       "      <td>2</td>\n",
       "      <td>1</td>\n",
       "      <td>1</td>\n",
       "      <td>1</td>\n",
       "      <td>1</td>\n",
       "      <td>2</td>\n",
       "      <td>1</td>\n",
       "      <td>2</td>\n",
       "      <td>6</td>\n",
       "    </tr>\n",
       "    <tr>\n",
       "      <th>2</th>\n",
       "      <td>3</td>\n",
       "      <td>1</td>\n",
       "      <td>1</td>\n",
       "      <td>3</td>\n",
       "      <td>7</td>\n",
       "      <td>4</td>\n",
       "      <td>68</td>\n",
       "      <td>2</td>\n",
       "      <td>23</td>\n",
       "      <td>0</td>\n",
       "      <td>...</td>\n",
       "      <td>2</td>\n",
       "      <td>2</td>\n",
       "      <td>1</td>\n",
       "      <td>1</td>\n",
       "      <td>1</td>\n",
       "      <td>1</td>\n",
       "      <td>2</td>\n",
       "      <td>2</td>\n",
       "      <td>3</td>\n",
       "      <td>5</td>\n",
       "    </tr>\n",
       "  </tbody>\n",
       "</table>\n",
       "<p>3 rows × 42 columns</p>\n",
       "</div>"
      ],
      "text/plain": [
       "   race_num  gender_num  admission_type_id  discharge_disposition_id  \\\n",
       "0         3           1                  2                         1   \n",
       "1         3           1                  3                         1   \n",
       "2         3           1                  1                         3   \n",
       "\n",
       "   admission_source_id  time_in_hospital  num_lab_procedures  num_procedures  \\\n",
       "0                    1                 8                  77               6   \n",
       "1                    1                 2                  49               1   \n",
       "2                    7                 4                  68               2   \n",
       "\n",
       "   num_medications  number_outpatient  ...  insulin_num  \\\n",
       "0               33                  0  ...            3   \n",
       "1               11                  0  ...            2   \n",
       "2               23                  0  ...            2   \n",
       "\n",
       "   glyburide.metformin_num  glipizide.metformin_num  \\\n",
       "0                        2                        1   \n",
       "1                        2                        1   \n",
       "2                        2                        1   \n",
       "\n",
       "   glimepiride.pioglitazone_num  metformin.rosiglitazone_num  \\\n",
       "0                             1                            1   \n",
       "1                             1                            1   \n",
       "2                             1                            1   \n",
       "\n",
       "   metformin.pioglitazone_num  change_num  diabetesMed_num  age2_num  \\\n",
       "0                           1           1                2         2   \n",
       "1                           1           2                1         2   \n",
       "2                           1           2                2         3   \n",
       "\n",
       "   diag_1_3_num  \n",
       "0             1  \n",
       "1             6  \n",
       "2             5  \n",
       "\n",
       "[3 rows x 42 columns]"
      ]
     },
     "execution_count": 4,
     "metadata": {},
     "output_type": "execute_result"
    }
   ],
   "source": [
    "X = dataset_1.iloc[:, np.r_[0:2, 3:41, 42,43]]\n",
    "y = dataset_1.iloc[:,-1].values\n",
    "X.head(3)"
   ]
  },
  {
   "cell_type": "code",
   "execution_count": 5,
   "id": "growing-poetry",
   "metadata": {},
   "outputs": [
    {
     "data": {
      "text/plain": [
       "Index(['race_num', 'gender_num', 'admission_type_id',\n",
       "       'discharge_disposition_id', 'admission_source_id', 'time_in_hospital',\n",
       "       'num_lab_procedures', 'num_procedures', 'num_medications',\n",
       "       'number_outpatient', 'number_emergency', 'number_inpatient',\n",
       "       'number_diagnoses', 'max_glu_serum_num', 'A1Cresult_num',\n",
       "       'metformin_num', 'repaglinide_num', 'nateglinide_num',\n",
       "       'chlorpropamide_num', 'glimepiride_num', 'acetohexamide_num',\n",
       "       'glipizide_num', 'glyburide_num', 'tolbutamide_num', 'pioglitazone_num',\n",
       "       'rosiglitazone_num', 'acarbose_num', 'miglitol_num', 'troglitazone_num',\n",
       "       'tolazamide_num', 'examide_num', 'citoglipton_num', 'insulin_num',\n",
       "       'glyburide.metformin_num', 'glipizide.metformin_num',\n",
       "       'glimepiride.pioglitazone_num', 'metformin.rosiglitazone_num',\n",
       "       'metformin.pioglitazone_num', 'change_num', 'diabetesMed_num',\n",
       "       'age2_num', 'diag_1_3_num'],\n",
       "      dtype='object')"
      ]
     },
     "execution_count": 5,
     "metadata": {},
     "output_type": "execute_result"
    }
   ],
   "source": [
    "X.columns"
   ]
  },
  {
   "cell_type": "code",
   "execution_count": 6,
   "id": "distinguished-momentum",
   "metadata": {},
   "outputs": [
    {
     "data": {
      "text/plain": [
       "(71515, 42)"
      ]
     },
     "execution_count": 6,
     "metadata": {},
     "output_type": "execute_result"
    }
   ],
   "source": [
    "X.shape"
   ]
  },
  {
   "cell_type": "code",
   "execution_count": 7,
   "id": "hazardous-irish",
   "metadata": {},
   "outputs": [
    {
     "data": {
      "text/plain": [
       "3    58529\n",
       "2     6304\n",
       "4     3791\n",
       "1     2891\n",
       "Name: A1Cresult_num, dtype: int64"
      ]
     },
     "execution_count": 7,
     "metadata": {},
     "output_type": "execute_result"
    }
   ],
   "source": [
    "X[\"A1Cresult_num\"].value_counts()"
   ]
  },
  {
   "cell_type": "markdown",
   "id": "russian-wheat",
   "metadata": {},
   "source": [
    "### DATOS DE ENTRENAMIENTO Y DE TEST"
   ]
  },
  {
   "cell_type": "code",
   "execution_count": 8,
   "id": "surgical-spanish",
   "metadata": {},
   "outputs": [],
   "source": [
    "from sklearn.model_selection import train_test_split\n",
    "X_train, X_test, y_train, y_test = train_test_split(X, y, test_size = 0.20, random_state =1)"
   ]
  },
  {
   "cell_type": "markdown",
   "id": "ruled-cooking",
   "metadata": {},
   "source": [
    "#### Datos test vs Datos train. Casos totales, Casos Positivos y Casos Negativos"
   ]
  },
  {
   "cell_type": "code",
   "execution_count": 9,
   "id": "breathing-archive",
   "metadata": {},
   "outputs": [
    {
     "name": "stdout",
     "output_type": "stream",
     "text": [
      "Total registros del train 57212\n",
      "Total positivos en y_train:  5029\n",
      "Porcentaje de positivos:  8.79 %\n",
      "Total negativos en y_train:  52183\n",
      "Porcentaje de negativos 91.21 %\n"
     ]
    }
   ],
   "source": [
    "total = len(y_train)\n",
    "one_count = np.sum(y_train)\n",
    "one_count_pct=one_count/total\n",
    "zero_count = total - one_count\n",
    "zero_count_pct = 1 - one_count_pct\n",
    "\n",
    "print(\"Total registros del train\", total)\n",
    "print(\"Total positivos en y_train: \", one_count)\n",
    "print(\"Porcentaje de positivos: \", round(one_count_pct*100,2), \"%\")\n",
    "print(\"Total negativos en y_train: \", zero_count)\n",
    "print(\"Porcentaje de negativos\", round(zero_count_pct*100,2), \"%\")"
   ]
  },
  {
   "cell_type": "code",
   "execution_count": 10,
   "id": "necessary-sight",
   "metadata": {},
   "outputs": [
    {
     "name": "stdout",
     "output_type": "stream",
     "text": [
      "Total registros del test 14303\n",
      "Total positivos en y_test:  1264\n",
      "Porcentaje de positivos:  8.84 %\n",
      "Total negativos en y_test:  13039\n",
      "Porcentaje de negativos 91.16 %\n"
     ]
    }
   ],
   "source": [
    "total = len(y_test)\n",
    "one_count = np.sum(y_test)\n",
    "one_count_pct=one_count/total\n",
    "zero_count = total - one_count\n",
    "zero_count_pct = 1 - one_count_pct\n",
    "\n",
    "print(\"Total registros del test\", total)\n",
    "print(\"Total positivos en y_test: \", one_count)\n",
    "print(\"Porcentaje de positivos: \", round(one_count_pct*100,2), \"%\")\n",
    "print(\"Total negativos en y_test: \", zero_count)\n",
    "print(\"Porcentaje de negativos\", round(zero_count_pct*100,2), \"%\")"
   ]
  },
  {
   "cell_type": "markdown",
   "id": "considerable-bennett",
   "metadata": {},
   "source": [
    "#### ESTANDARIZACIÓN DE DATOS"
   ]
  },
  {
   "cell_type": "code",
   "execution_count": 11,
   "id": "suspended-norman",
   "metadata": {},
   "outputs": [],
   "source": [
    "from sklearn.preprocessing import StandardScaler\n",
    "sc = StandardScaler()\n",
    "X_train = sc.fit_transform(X_train)\n",
    "X_test = sc.transform(X_test)"
   ]
  },
  {
   "cell_type": "markdown",
   "id": "detailed-valuation",
   "metadata": {},
   "source": [
    "#### Agrega Capas de entrada y Primera Capa Oculta"
   ]
  },
  {
   "cell_type": "code",
   "execution_count": 12,
   "id": "extraordinary-hands",
   "metadata": {},
   "outputs": [],
   "source": [
    "rnclas = tf.keras.models.Sequential()\n",
    "rnclas.add(tf.keras.layers.Dense(units = 268, activation ='relu'))"
   ]
  },
  {
   "cell_type": "markdown",
   "id": "approved-madrid",
   "metadata": {},
   "source": [
    "#### Agrega Segunda Capa Oculta"
   ]
  },
  {
   "cell_type": "code",
   "execution_count": 13,
   "id": "amber-blowing",
   "metadata": {},
   "outputs": [],
   "source": [
    "# rnclas.add(tf.keras.layers.Dense(units = 250, activation ='relu'))"
   ]
  },
  {
   "cell_type": "markdown",
   "id": "signal-exposure",
   "metadata": {},
   "source": [
    "#### Agregar Tercera Capa Oculta"
   ]
  },
  {
   "cell_type": "code",
   "execution_count": 14,
   "id": "raised-given",
   "metadata": {},
   "outputs": [],
   "source": [
    "# rnclas.add(tf.keras.layers.Dense(units = 38, activation ='relu'))"
   ]
  },
  {
   "cell_type": "markdown",
   "id": "enhanced-diversity",
   "metadata": {},
   "source": [
    "#### Agrega Capa de Salida"
   ]
  },
  {
   "cell_type": "code",
   "execution_count": 15,
   "id": "prescription-river",
   "metadata": {},
   "outputs": [],
   "source": [
    "rnclas.add(tf.keras.layers.Dense(units = 1, activation = 'sigmoid'))"
   ]
  },
  {
   "cell_type": "markdown",
   "id": "worthy-turning",
   "metadata": {},
   "source": [
    "#### Compilar Red Neuronal"
   ]
  },
  {
   "cell_type": "code",
   "execution_count": 16,
   "id": "mobile-venezuela",
   "metadata": {},
   "outputs": [],
   "source": [
    "rnclas.compile(optimizer = \"adam\", loss = \"binary_crossentropy\", metrics = [\"accuracy\"])\n",
    "\n",
    "# otro valor de optimizer puede ser 'rmsprop'\n",
    "# otro valor de loss puede ser 'categorical_crossentropy\n",
    "'"
   ]
  },
  {
   "cell_type": "markdown",
   "id": "senior-posting",
   "metadata": {},
   "source": [
    "#### Entrenar Red Neuronal"
   ]
  },
  {
   "cell_type": "code",
   "execution_count": 17,
   "id": "democratic-glasgow",
   "metadata": {},
   "outputs": [
    {
     "name": "stdout",
     "output_type": "stream",
     "text": [
      "Epoch 1/100\n",
      "1788/1788 [==============================] - 2s 896us/step - loss: 0.2996 - accuracy: 0.9110\n",
      "Epoch 2/100\n",
      "1788/1788 [==============================] - 2s 961us/step - loss: 0.2910 - accuracy: 0.9120\n",
      "Epoch 3/100\n",
      "1788/1788 [==============================] - 1s 796us/step - loss: 0.2895 - accuracy: 0.9120\n",
      "Epoch 4/100\n",
      "1788/1788 [==============================] - 2s 919us/step - loss: 0.2887 - accuracy: 0.9121\n",
      "Epoch 5/100\n",
      "1788/1788 [==============================] - 2s 839us/step - loss: 0.2884 - accuracy: 0.9120\n",
      "Epoch 6/100\n",
      "1788/1788 [==============================] - 2s 933us/step - loss: 0.2876 - accuracy: 0.9120\n",
      "Epoch 7/100\n",
      "1788/1788 [==============================] - 2s 1ms/step - loss: 0.2872 - accuracy: 0.9120\n",
      "Epoch 8/100\n",
      "1788/1788 [==============================] - 2s 1ms/step - loss: 0.2859 - accuracy: 0.9121\n",
      "Epoch 9/100\n",
      "1788/1788 [==============================] - 2s 1ms/step - loss: 0.2859 - accuracy: 0.9122\n",
      "Epoch 10/100\n",
      "1788/1788 [==============================] - 2s 1ms/step - loss: 0.2852 - accuracy: 0.9120\n",
      "Epoch 11/100\n",
      "1788/1788 [==============================] - 2s 1ms/step - loss: 0.2844 - accuracy: 0.9120\n",
      "Epoch 12/100\n",
      "1788/1788 [==============================] - 2s 1ms/step - loss: 0.2840 - accuracy: 0.9121\n",
      "Epoch 13/100\n",
      "1788/1788 [==============================] - 2s 1ms/step - loss: 0.2832 - accuracy: 0.9121\n",
      "Epoch 14/100\n",
      "1788/1788 [==============================] - 3s 2ms/step - loss: 0.2824 - accuracy: 0.9120\n",
      "Epoch 15/100\n",
      "1788/1788 [==============================] - 3s 1ms/step - loss: 0.2817 - accuracy: 0.9122\n",
      "Epoch 16/100\n",
      "1788/1788 [==============================] - 3s 2ms/step - loss: 0.2812 - accuracy: 0.9120\n",
      "Epoch 17/100\n",
      "1788/1788 [==============================] - 3s 2ms/step - loss: 0.2798 - accuracy: 0.9121\n",
      "Epoch 18/100\n",
      "1788/1788 [==============================] - 3s 2ms/step - loss: 0.2792 - accuracy: 0.9121\n",
      "Epoch 19/100\n",
      "1788/1788 [==============================] - 4s 2ms/step - loss: 0.2781 - accuracy: 0.9120\n",
      "Epoch 20/100\n",
      "1788/1788 [==============================] - 4s 2ms/step - loss: 0.2773 - accuracy: 0.9121\n",
      "Epoch 21/100\n",
      "1788/1788 [==============================] - 4s 2ms/step - loss: 0.2757 - accuracy: 0.9122\n",
      "Epoch 22/100\n",
      "1788/1788 [==============================] - 4s 2ms/step - loss: 0.2751 - accuracy: 0.9126\n",
      "Epoch 23/100\n",
      "1788/1788 [==============================] - 4s 2ms/step - loss: 0.2742 - accuracy: 0.9121\n",
      "Epoch 24/100\n",
      "1788/1788 [==============================] - 4s 2ms/step - loss: 0.2732 - accuracy: 0.9124\n",
      "Epoch 25/100\n",
      "1788/1788 [==============================] - 4s 2ms/step - loss: 0.2718 - accuracy: 0.9126\n",
      "Epoch 26/100\n",
      "1788/1788 [==============================] - 4s 2ms/step - loss: 0.2705 - accuracy: 0.9127\n",
      "Epoch 27/100\n",
      "1788/1788 [==============================] - 4s 2ms/step - loss: 0.2698 - accuracy: 0.9129\n",
      "Epoch 28/100\n",
      "1788/1788 [==============================] - 4s 2ms/step - loss: 0.2676 - accuracy: 0.9126\n",
      "Epoch 29/100\n",
      "1788/1788 [==============================] - 4s 2ms/step - loss: 0.2670 - accuracy: 0.9131\n",
      "Epoch 30/100\n",
      "1788/1788 [==============================] - 4s 2ms/step - loss: 0.2653 - accuracy: 0.9132\n",
      "Epoch 31/100\n",
      "1788/1788 [==============================] - 4s 2ms/step - loss: 0.2648 - accuracy: 0.9132: 0s - loss: 0.2627 \n",
      "Epoch 32/100\n",
      "1788/1788 [==============================] - 4s 2ms/step - loss: 0.2633 - accuracy: 0.9137\n",
      "Epoch 33/100\n",
      "1788/1788 [==============================] - 4s 2ms/step - loss: 0.2620 - accuracy: 0.9138\n",
      "Epoch 34/100\n",
      "1788/1788 [==============================] - 4s 2ms/step - loss: 0.2607 - accuracy: 0.9134\n",
      "Epoch 35/100\n",
      "1788/1788 [==============================] - 4s 2ms/step - loss: 0.2606 - accuracy: 0.9138\n",
      "Epoch 36/100\n",
      "1788/1788 [==============================] - 4s 2ms/step - loss: 0.2598 - accuracy: 0.9141\n",
      "Epoch 37/100\n",
      "1788/1788 [==============================] - 4s 2ms/step - loss: 0.2570 - accuracy: 0.9141\n",
      "Epoch 38/100\n",
      "1788/1788 [==============================] - 4s 2ms/step - loss: 0.2556 - accuracy: 0.9144\n",
      "Epoch 39/100\n",
      "1788/1788 [==============================] - 4s 2ms/step - loss: 0.2551 - accuracy: 0.9145\n",
      "Epoch 40/100\n",
      "1788/1788 [==============================] - 4s 2ms/step - loss: 0.2541 - accuracy: 0.9144\n",
      "Epoch 41/100\n",
      "1788/1788 [==============================] - 4s 2ms/step - loss: 0.2532 - accuracy: 0.9152\n",
      "Epoch 42/100\n",
      "1788/1788 [==============================] - 4s 2ms/step - loss: 0.2541 - accuracy: 0.9151: 0s -\n",
      "Epoch 43/100\n",
      "1788/1788 [==============================] - 4s 2ms/step - loss: 0.2501 - accuracy: 0.9152\n",
      "Epoch 44/100\n",
      "1788/1788 [==============================] - 4s 2ms/step - loss: 0.2494 - accuracy: 0.9157\n",
      "Epoch 45/100\n",
      "1788/1788 [==============================] - 4s 2ms/step - loss: 0.2487 - accuracy: 0.9158\n",
      "Epoch 46/100\n",
      "1788/1788 [==============================] - 4s 2ms/step - loss: 0.2480 - accuracy: 0.9157\n",
      "Epoch 47/100\n",
      "1788/1788 [==============================] - 4s 2ms/step - loss: 0.2475 - accuracy: 0.9162\n",
      "Epoch 48/100\n",
      "1788/1788 [==============================] - 4s 2ms/step - loss: 0.2461 - accuracy: 0.9161: 0s - loss: 0.2458 - accuracy: 0.\n",
      "Epoch 49/100\n",
      "1788/1788 [==============================] - 4s 2ms/step - loss: 0.2481 - accuracy: 0.9161\n",
      "Epoch 50/100\n",
      "1788/1788 [==============================] - 4s 2ms/step - loss: 0.2470 - accuracy: 0.9164\n",
      "Epoch 51/100\n",
      "1788/1788 [==============================] - 4s 2ms/step - loss: 0.2464 - accuracy: 0.9165\n",
      "Epoch 52/100\n",
      "1788/1788 [==============================] - 4s 2ms/step - loss: 0.2443 - accuracy: 0.9167\n",
      "Epoch 53/100\n",
      "1788/1788 [==============================] - 4s 2ms/step - loss: 0.2417 - accuracy: 0.9172\n",
      "Epoch 54/100\n",
      "1788/1788 [==============================] - 4s 2ms/step - loss: 0.2413 - accuracy: 0.9175\n",
      "Epoch 55/100\n",
      "1788/1788 [==============================] - 4s 2ms/step - loss: 0.2400 - accuracy: 0.9173\n",
      "Epoch 56/100\n",
      "1788/1788 [==============================] - 4s 2ms/step - loss: 0.2387 - accuracy: 0.9177\n",
      "Epoch 57/100\n",
      "1788/1788 [==============================] - 4s 2ms/step - loss: 0.2373 - accuracy: 0.9181\n",
      "Epoch 58/100\n",
      "1788/1788 [==============================] - 4s 2ms/step - loss: 0.2378 - accuracy: 0.9180\n",
      "Epoch 59/100\n",
      "1788/1788 [==============================] - 4s 2ms/step - loss: 0.2391 - accuracy: 0.9178\n",
      "Epoch 60/100\n",
      "1788/1788 [==============================] - 4s 2ms/step - loss: 0.2367 - accuracy: 0.9185\n",
      "Epoch 61/100\n",
      "1788/1788 [==============================] - 4s 2ms/step - loss: 0.2343 - accuracy: 0.9188\n",
      "Epoch 62/100\n",
      "1788/1788 [==============================] - 4s 2ms/step - loss: 0.2352 - accuracy: 0.9183\n",
      "Epoch 63/100\n",
      "1788/1788 [==============================] - 4s 2ms/step - loss: 0.2362 - accuracy: 0.9184\n",
      "Epoch 64/100\n",
      "1788/1788 [==============================] - 4s 2ms/step - loss: 0.2336 - accuracy: 0.9193: 0s - loss: 0.2337 - accuracy: \n",
      "Epoch 65/100\n",
      "1788/1788 [==============================] - 4s 2ms/step - loss: 0.2329 - accuracy: 0.9193\n",
      "Epoch 66/100\n",
      "1788/1788 [==============================] - 4s 2ms/step - loss: 0.2311 - accuracy: 0.9196\n",
      "Epoch 67/100\n",
      "1788/1788 [==============================] - 4s 2ms/step - loss: 0.2324 - accuracy: 0.9192\n",
      "Epoch 68/100\n",
      "1788/1788 [==============================] - 4s 2ms/step - loss: 0.2319 - accuracy: 0.9194\n",
      "Epoch 69/100\n",
      "1788/1788 [==============================] - 4s 2ms/step - loss: 0.2325 - accuracy: 0.9197\n",
      "Epoch 70/100\n",
      "1788/1788 [==============================] - 4s 2ms/step - loss: 0.2284 - accuracy: 0.9202\n",
      "Epoch 71/100\n",
      "1788/1788 [==============================] - 4s 2ms/step - loss: 0.2280 - accuracy: 0.9205\n",
      "Epoch 72/100\n",
      "1788/1788 [==============================] - 4s 2ms/step - loss: 0.2283 - accuracy: 0.9203\n",
      "Epoch 73/100\n",
      "1788/1788 [==============================] - 4s 2ms/step - loss: 0.2258 - accuracy: 0.9206\n",
      "Epoch 74/100\n",
      "1788/1788 [==============================] - 4s 2ms/step - loss: 0.2259 - accuracy: 0.9210\n",
      "Epoch 75/100\n",
      "1788/1788 [==============================] - 4s 2ms/step - loss: 0.2272 - accuracy: 0.9196\n",
      "Epoch 76/100\n",
      "1788/1788 [==============================] - 4s 2ms/step - loss: 0.2272 - accuracy: 0.9214\n",
      "Epoch 77/100\n",
      "1788/1788 [==============================] - 4s 2ms/step - loss: 0.2251 - accuracy: 0.9209: 0s - loss: 0.2\n",
      "Epoch 78/100\n",
      "1788/1788 [==============================] - 4s 2ms/step - loss: 0.2228 - accuracy: 0.9209\n",
      "Epoch 79/100\n",
      "1788/1788 [==============================] - 4s 2ms/step - loss: 0.2247 - accuracy: 0.9224\n",
      "Epoch 80/100\n",
      "1788/1788 [==============================] - 4s 2ms/step - loss: 0.2217 - accuracy: 0.9216\n",
      "Epoch 81/100\n",
      "1788/1788 [==============================] - 4s 2ms/step - loss: 0.2214 - accuracy: 0.9223\n",
      "Epoch 82/100\n",
      "1788/1788 [==============================] - 4s 2ms/step - loss: 0.2212 - accuracy: 0.9222\n",
      "Epoch 83/100\n",
      "1788/1788 [==============================] - 4s 2ms/step - loss: 0.2229 - accuracy: 0.9213\n",
      "Epoch 84/100\n",
      "1788/1788 [==============================] - 4s 2ms/step - loss: 0.2230 - accuracy: 0.9224: 2s - loss: 0.223 - ETA: 1s - los - ETA: 1s - loss: 0.2254 - accu - ETA: 0s - los\n",
      "Epoch 85/100\n",
      "1788/1788 [==============================] - 4s 2ms/step - loss: 0.2191 - accuracy: 0.9229\n",
      "Epoch 86/100\n",
      "1788/1788 [==============================] - 4s 2ms/step - loss: 0.2194 - accuracy: 0.9222\n",
      "Epoch 87/100\n",
      "1788/1788 [==============================] - 4s 2ms/step - loss: 0.2206 - accuracy: 0.9226\n",
      "Epoch 88/100\n",
      "1788/1788 [==============================] - 4s 2ms/step - loss: 0.2198 - accuracy: 0.9225: 0s - loss: 0.2 - ETA: 0s - loss: 0.2183 - accuracy\n",
      "Epoch 89/100\n",
      "1788/1788 [==============================] - 4s 2ms/step - loss: 0.2258 - accuracy: 0.9223\n",
      "Epoch 90/100\n",
      "1788/1788 [==============================] - 4s 2ms/step - loss: 0.2178 - accuracy: 0.9234\n",
      "Epoch 91/100\n",
      "1788/1788 [==============================] - 4s 2ms/step - loss: 0.2172 - accuracy: 0.9232\n",
      "Epoch 92/100\n",
      "1788/1788 [==============================] - 4s 2ms/step - loss: 0.2168 - accuracy: 0.9233\n",
      "Epoch 93/100\n",
      "1788/1788 [==============================] - 4s 2ms/step - loss: 0.2150 - accuracy: 0.9234\n",
      "Epoch 94/100\n",
      "1788/1788 [==============================] - 4s 2ms/step - loss: 0.2155 - accuracy: 0.9240\n",
      "Epoch 95/100\n",
      "1788/1788 [==============================] - 4s 2ms/step - loss: 0.2141 - accuracy: 0.9237\n",
      "Epoch 96/100\n",
      "1788/1788 [==============================] - 4s 2ms/step - loss: 0.2128 - accuracy: 0.9243\n",
      "Epoch 97/100\n",
      "1788/1788 [==============================] - 4s 2ms/step - loss: 0.2133 - accuracy: 0.9246\n",
      "Epoch 98/100\n",
      "1788/1788 [==============================] - 4s 2ms/step - loss: 0.2185 - accuracy: 0.9239\n",
      "Epoch 99/100\n",
      "1788/1788 [==============================] - 4s 2ms/step - loss: 0.2190 - accuracy: 0.9238\n",
      "Epoch 100/100\n",
      "1788/1788 [==============================] - 4s 2ms/step - loss: 0.2148 - accuracy: 0.9246\n"
     ]
    },
    {
     "data": {
      "text/plain": [
       "<tensorflow.python.keras.callbacks.History at 0x1fec7561700>"
      ]
     },
     "execution_count": 17,
     "metadata": {},
     "output_type": "execute_result"
    }
   ],
   "source": [
    "rnclas.fit(X_train, y_train, epochs = 100)"
   ]
  },
  {
   "cell_type": "markdown",
   "id": "organizational-general",
   "metadata": {},
   "source": [
    "### PREDICCIONES DE LA MUESTRA DE TEST"
   ]
  },
  {
   "cell_type": "code",
   "execution_count": 18,
   "id": "southern-quilt",
   "metadata": {},
   "outputs": [],
   "source": [
    "y_pred = rnclas.predict(X_test)\n",
    "y_pred_2 = (y_pred>0.5)"
   ]
  },
  {
   "cell_type": "markdown",
   "id": "afraid-weight",
   "metadata": {},
   "source": [
    "### MATRIZ DE CONFUSIÓN"
   ]
  },
  {
   "cell_type": "code",
   "execution_count": 19,
   "id": "comfortable-nerve",
   "metadata": {},
   "outputs": [
    {
     "name": "stdout",
     "output_type": "stream",
     "text": [
      "[[12677   362]\n",
      " [ 1193    71]]\n"
     ]
    }
   ],
   "source": [
    "from sklearn.metrics import confusion_matrix, accuracy_score\n",
    "cm = confusion_matrix(y_test, y_pred_2)\n",
    "print(cm)"
   ]
  },
  {
   "cell_type": "code",
   "execution_count": 20,
   "id": "mexican-pressure",
   "metadata": {},
   "outputs": [
    {
     "name": "stdout",
     "output_type": "stream",
     "text": [
      "Total Casos = 14303\n",
      "Verdaderos Positivos: 71\n",
      "Verdaderos Negativos: 12677\n",
      "Falsos Positivos:  362\n",
      "Falsos Negativos:  1193\n",
      "Exactitud = 0.89\n",
      "Precisión = 0.16\n",
      "Sensitividad = 0.06\n",
      "Especificidad = 0.97\n"
     ]
    }
   ],
   "source": [
    "accuracy_score(y_test, y_pred_2)\n",
    "TP = cm[1][1]\n",
    "TN = cm[0][0]\n",
    "FN = cm[1][0]\n",
    "FP = cm[0][1]\n",
    "total_casos = TP + FP + TN + FN\n",
    "print(\"Total Casos =\", total_casos)\n",
    "print(\"Verdaderos Positivos:\", TP)\n",
    "print(\"Verdaderos Negativos:\", TN)\n",
    "print(\"Falsos Positivos: \", FP)\n",
    "print(\"Falsos Negativos: \", FN)\n",
    "exactitud = ((TP+TN) / (TP+FP+TN+FN))\n",
    "print(f\"Exactitud = {round(exactitud,2)}\")\n",
    "precision = (TP / (TP+FP))\n",
    "print(f\"Precisión = {round(precision,2)}\")\n",
    "sensitividad = (TP / (TP + FN))\n",
    "print(f\"Sensitividad = {round(sensitividad,2)}\")\n",
    "especificidad = (TN/(TN+FP))\n",
    "print(f\"Especificidad = {round(especificidad, 2)}\")"
   ]
  },
  {
   "cell_type": "code",
   "execution_count": null,
   "id": "underlying-hayes",
   "metadata": {},
   "outputs": [],
   "source": []
  }
 ],
 "metadata": {
  "kernelspec": {
   "display_name": "Python 3",
   "language": "python",
   "name": "python3"
  },
  "language_info": {
   "codemirror_mode": {
    "name": "ipython",
    "version": 3
   },
   "file_extension": ".py",
   "mimetype": "text/x-python",
   "name": "python",
   "nbconvert_exporter": "python",
   "pygments_lexer": "ipython3",
   "version": "3.8.5"
  }
 },
 "nbformat": 4,
 "nbformat_minor": 5
}
