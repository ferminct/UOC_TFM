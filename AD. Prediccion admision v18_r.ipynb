{
 "cells": [
  {
   "cell_type": "markdown",
   "id": "charitable-rally",
   "metadata": {},
   "source": [
    "### IIMPORTAR LIBRERIAS"
   ]
  },
  {
   "cell_type": "code",
   "execution_count": 1,
   "id": "civic-dubai",
   "metadata": {},
   "outputs": [],
   "source": [
    "import numpy as np\n",
    "import pandas as pd\n",
    "import matplotlib.pyplot as plt\n",
    "import tensorflow as tf"
   ]
  },
  {
   "cell_type": "markdown",
   "id": "proved-elder",
   "metadata": {},
   "source": [
    "##### Se consideran todas las variables y se realiza el approach 3\n",
    "#### Se incrementa el número de neuronas por capas como en los ficheros anteriores 60/120/60 (antes 38/76/38) - epochs = 500"
   ]
  },
  {
   "cell_type": "markdown",
   "id": "supreme-continent",
   "metadata": {},
   "source": [
    "### CARGAR LIBRERIAS DESDE .CSV"
   ]
  },
  {
   "cell_type": "code",
   "execution_count": 2,
   "id": "promotional-theta",
   "metadata": {},
   "outputs": [],
   "source": [
    "path_base = \"C:\\\\Users\\\\fermi\\\\UOC\\\\Master UOC. Posgrado en inteligencia de negocio\\\\TFM\\\\Ficheros\"\n",
    "dataset_0 = pd.read_csv(path_base + \"\\diabetic_set2.csv\")"
   ]
  },
  {
   "cell_type": "code",
   "execution_count": 3,
   "id": "intimate-muslim",
   "metadata": {},
   "outputs": [
    {
     "data": {
      "text/plain": [
       "(71515, 50)"
      ]
     },
     "execution_count": 3,
     "metadata": {},
     "output_type": "execute_result"
    }
   ],
   "source": [
    "dataset_0.shape"
   ]
  },
  {
   "cell_type": "code",
   "execution_count": 4,
   "id": "regulation-ethics",
   "metadata": {},
   "outputs": [],
   "source": [
    "dataset_3 = dataset_0[[\"race\",\"gender\",\"admission_type_id\",\"discharge_disposition_id\",\"admission_source_id\",\"time_in_hospital\",\"num_lab_procedures\",\"num_procedures\",\"num_medications\",\"number_outpatient\",\"number_emergency\",\"number_inpatient\",\"number_diagnoses\",\"max_glu_serum\",\"A1Cresult\",\"metformin\",\"repaglinide\",\"glimepiride\",\"glipizide\",\"glyburide\",\"pioglitazone\",\"rosiglitazone\",\"insulin\",\"change\",\"diabetesMed\",\"age2\",\"diag_1_3\",\"readmitted2_num\"]]"
   ]
  },
  {
   "cell_type": "code",
   "execution_count": 5,
   "id": "noted-president",
   "metadata": {},
   "outputs": [
    {
     "data": {
      "text/plain": [
       "Index(['race', 'gender', 'admission_type_id', 'discharge_disposition_id',\n",
       "       'admission_source_id', 'time_in_hospital', 'num_lab_procedures',\n",
       "       'num_procedures', 'num_medications', 'number_outpatient',\n",
       "       'number_emergency', 'number_inpatient', 'number_diagnoses',\n",
       "       'max_glu_serum', 'A1Cresult', 'metformin', 'repaglinide', 'glimepiride',\n",
       "       'glipizide', 'glyburide', 'pioglitazone', 'rosiglitazone', 'insulin',\n",
       "       'change', 'diabetesMed', 'age2', 'diag_1_3', 'readmitted2_num'],\n",
       "      dtype='object')"
      ]
     },
     "execution_count": 5,
     "metadata": {},
     "output_type": "execute_result"
    }
   ],
   "source": [
    "dataset_3.columns"
   ]
  },
  {
   "cell_type": "code",
   "execution_count": 6,
   "id": "appropriate-programming",
   "metadata": {},
   "outputs": [
    {
     "name": "stdout",
     "output_type": "stream",
     "text": [
      "<class 'pandas.core.frame.DataFrame'>\n",
      "RangeIndex: 71515 entries, 0 to 71514\n",
      "Data columns (total 28 columns):\n",
      " #   Column                    Non-Null Count  Dtype \n",
      "---  ------                    --------------  ----- \n",
      " 0   race                      71515 non-null  object\n",
      " 1   gender                    71515 non-null  object\n",
      " 2   admission_type_id         71515 non-null  int64 \n",
      " 3   discharge_disposition_id  71515 non-null  int64 \n",
      " 4   admission_source_id       71515 non-null  int64 \n",
      " 5   time_in_hospital          71515 non-null  int64 \n",
      " 6   num_lab_procedures        71515 non-null  int64 \n",
      " 7   num_procedures            71515 non-null  int64 \n",
      " 8   num_medications           71515 non-null  int64 \n",
      " 9   number_outpatient         71515 non-null  int64 \n",
      " 10  number_emergency          71515 non-null  int64 \n",
      " 11  number_inpatient          71515 non-null  int64 \n",
      " 12  number_diagnoses          71515 non-null  int64 \n",
      " 13  max_glu_serum             71515 non-null  object\n",
      " 14  A1Cresult                 71515 non-null  object\n",
      " 15  metformin                 71515 non-null  object\n",
      " 16  repaglinide               71515 non-null  object\n",
      " 17  glimepiride               71515 non-null  object\n",
      " 18  glipizide                 71515 non-null  object\n",
      " 19  glyburide                 71515 non-null  object\n",
      " 20  pioglitazone              71515 non-null  object\n",
      " 21  rosiglitazone             71515 non-null  object\n",
      " 22  insulin                   71515 non-null  object\n",
      " 23  change                    71515 non-null  object\n",
      " 24  diabetesMed               71515 non-null  object\n",
      " 25  age2                      71515 non-null  object\n",
      " 26  diag_1_3                  71515 non-null  object\n",
      " 27  readmitted2_num           71515 non-null  int64 \n",
      "dtypes: int64(12), object(16)\n",
      "memory usage: 15.3+ MB\n"
     ]
    }
   ],
   "source": [
    "dataset_3.info()"
   ]
  },
  {
   "cell_type": "markdown",
   "id": "revolutionary-intellectual",
   "metadata": {},
   "source": [
    "### TRANSFORMACIÓN DE VARIABLES CATEGÓRICAS A NUMÉRICAS"
   ]
  },
  {
   "cell_type": "code",
   "execution_count": 7,
   "id": "after-romantic",
   "metadata": {},
   "outputs": [],
   "source": [
    "dataset_4 = pd.get_dummies(dataset_3, columns=[\"race\",\"gender\",\"max_glu_serum\",\"A1Cresult\",\"metformin\",\"repaglinide\",\"glimepiride\",\"glipizide\",\"glyburide\",\"pioglitazone\",\"rosiglitazone\",\"insulin\",\"change\",\"diabetesMed\",\"age2\",\"diag_1_3\"], prefix=[\"race\",\"gend\",\"max_\",\"A1Cr\",\"metf\",\"repa\",\"glir\",\"gliz\",\"glyb\",\"piog\",\"rosi\",\"insu\",\"chan\",\"diab\",\"age2\",\"diag\"])"
   ]
  },
  {
   "cell_type": "code",
   "execution_count": 8,
   "id": "danish-supplier",
   "metadata": {},
   "outputs": [
    {
     "data": {
      "text/plain": [
       "admission_type_id            2\n",
       "discharge_disposition_id     1\n",
       "admission_source_id          1\n",
       "time_in_hospital             8\n",
       "num_lab_procedures          77\n",
       "                            ..\n",
       "diag_Lesion                  0\n",
       "diag_Musculoesqueletico      0\n",
       "diag_Neoplasias              0\n",
       "diag_Otros                   0\n",
       "diag_Respiratorio            0\n",
       "Name: 0, Length: 75, dtype: int64"
      ]
     },
     "execution_count": 8,
     "metadata": {},
     "output_type": "execute_result"
    }
   ],
   "source": [
    "dataset_4.iloc[0]"
   ]
  },
  {
   "cell_type": "code",
   "execution_count": 9,
   "id": "thousand-jordan",
   "metadata": {},
   "outputs": [
    {
     "data": {
      "text/plain": [
       "(71515, 75)"
      ]
     },
     "execution_count": 9,
     "metadata": {},
     "output_type": "execute_result"
    }
   ],
   "source": [
    "dataset_4.shape"
   ]
  },
  {
   "cell_type": "code",
   "execution_count": 10,
   "id": "resistant-southeast",
   "metadata": {},
   "outputs": [],
   "source": [
    "# dataset_4.to_excel('v16.fin.xlsx', index = False)"
   ]
  },
  {
   "cell_type": "markdown",
   "id": "facial-kinase",
   "metadata": {},
   "source": [
    "### ESTABLECER VARIABLES DEPENDIENTES E INDEPENDIENTES"
   ]
  },
  {
   "cell_type": "code",
   "execution_count": 11,
   "id": "peaceful-ontario",
   "metadata": {},
   "outputs": [
    {
     "data": {
      "text/html": [
       "<div>\n",
       "<style scoped>\n",
       "    .dataframe tbody tr th:only-of-type {\n",
       "        vertical-align: middle;\n",
       "    }\n",
       "\n",
       "    .dataframe tbody tr th {\n",
       "        vertical-align: top;\n",
       "    }\n",
       "\n",
       "    .dataframe thead th {\n",
       "        text-align: right;\n",
       "    }\n",
       "</style>\n",
       "<table border=\"1\" class=\"dataframe\">\n",
       "  <thead>\n",
       "    <tr style=\"text-align: right;\">\n",
       "      <th></th>\n",
       "      <th>admission_type_id</th>\n",
       "      <th>discharge_disposition_id</th>\n",
       "      <th>admission_source_id</th>\n",
       "      <th>time_in_hospital</th>\n",
       "      <th>num_lab_procedures</th>\n",
       "      <th>num_procedures</th>\n",
       "      <th>num_medications</th>\n",
       "      <th>number_outpatient</th>\n",
       "      <th>number_emergency</th>\n",
       "      <th>number_inpatient</th>\n",
       "      <th>...</th>\n",
       "      <th>age2_[60-100)</th>\n",
       "      <th>diag_Circulatorio</th>\n",
       "      <th>diag_Diabetes</th>\n",
       "      <th>diag_Digestivo</th>\n",
       "      <th>diag_Genitourinario</th>\n",
       "      <th>diag_Lesion</th>\n",
       "      <th>diag_Musculoesqueletico</th>\n",
       "      <th>diag_Neoplasias</th>\n",
       "      <th>diag_Otros</th>\n",
       "      <th>diag_Respiratorio</th>\n",
       "    </tr>\n",
       "  </thead>\n",
       "  <tbody>\n",
       "    <tr>\n",
       "      <th>0</th>\n",
       "      <td>2</td>\n",
       "      <td>1</td>\n",
       "      <td>1</td>\n",
       "      <td>8</td>\n",
       "      <td>77</td>\n",
       "      <td>6</td>\n",
       "      <td>33</td>\n",
       "      <td>0</td>\n",
       "      <td>0</td>\n",
       "      <td>0</td>\n",
       "      <td>...</td>\n",
       "      <td>0</td>\n",
       "      <td>1</td>\n",
       "      <td>0</td>\n",
       "      <td>0</td>\n",
       "      <td>0</td>\n",
       "      <td>0</td>\n",
       "      <td>0</td>\n",
       "      <td>0</td>\n",
       "      <td>0</td>\n",
       "      <td>0</td>\n",
       "    </tr>\n",
       "    <tr>\n",
       "      <th>1</th>\n",
       "      <td>3</td>\n",
       "      <td>1</td>\n",
       "      <td>1</td>\n",
       "      <td>2</td>\n",
       "      <td>49</td>\n",
       "      <td>1</td>\n",
       "      <td>11</td>\n",
       "      <td>0</td>\n",
       "      <td>0</td>\n",
       "      <td>0</td>\n",
       "      <td>...</td>\n",
       "      <td>0</td>\n",
       "      <td>0</td>\n",
       "      <td>0</td>\n",
       "      <td>0</td>\n",
       "      <td>0</td>\n",
       "      <td>0</td>\n",
       "      <td>1</td>\n",
       "      <td>0</td>\n",
       "      <td>0</td>\n",
       "      <td>0</td>\n",
       "    </tr>\n",
       "    <tr>\n",
       "      <th>2</th>\n",
       "      <td>1</td>\n",
       "      <td>3</td>\n",
       "      <td>7</td>\n",
       "      <td>4</td>\n",
       "      <td>68</td>\n",
       "      <td>2</td>\n",
       "      <td>23</td>\n",
       "      <td>0</td>\n",
       "      <td>0</td>\n",
       "      <td>0</td>\n",
       "      <td>...</td>\n",
       "      <td>1</td>\n",
       "      <td>0</td>\n",
       "      <td>0</td>\n",
       "      <td>0</td>\n",
       "      <td>0</td>\n",
       "      <td>1</td>\n",
       "      <td>0</td>\n",
       "      <td>0</td>\n",
       "      <td>0</td>\n",
       "      <td>0</td>\n",
       "    </tr>\n",
       "  </tbody>\n",
       "</table>\n",
       "<p>3 rows × 74 columns</p>\n",
       "</div>"
      ],
      "text/plain": [
       "   admission_type_id  discharge_disposition_id  admission_source_id  \\\n",
       "0                  2                         1                    1   \n",
       "1                  3                         1                    1   \n",
       "2                  1                         3                    7   \n",
       "\n",
       "   time_in_hospital  num_lab_procedures  num_procedures  num_medications  \\\n",
       "0                 8                  77               6               33   \n",
       "1                 2                  49               1               11   \n",
       "2                 4                  68               2               23   \n",
       "\n",
       "   number_outpatient  number_emergency  number_inpatient  ...  age2_[60-100)  \\\n",
       "0                  0                 0                 0  ...              0   \n",
       "1                  0                 0                 0  ...              0   \n",
       "2                  0                 0                 0  ...              1   \n",
       "\n",
       "   diag_Circulatorio  diag_Diabetes  diag_Digestivo  diag_Genitourinario  \\\n",
       "0                  1              0               0                    0   \n",
       "1                  0              0               0                    0   \n",
       "2                  0              0               0                    0   \n",
       "\n",
       "   diag_Lesion  diag_Musculoesqueletico  diag_Neoplasias  diag_Otros  \\\n",
       "0            0                        0                0           0   \n",
       "1            0                        1                0           0   \n",
       "2            1                        0                0           0   \n",
       "\n",
       "   diag_Respiratorio  \n",
       "0                  0  \n",
       "1                  0  \n",
       "2                  0  \n",
       "\n",
       "[3 rows x 74 columns]"
      ]
     },
     "execution_count": 11,
     "metadata": {},
     "output_type": "execute_result"
    }
   ],
   "source": [
    "X = dataset_4.iloc[:, np.r_[0:11, 12:74,74]]\n",
    "y = dataset_4.iloc[:,-64].values\n",
    "X.head(3)"
   ]
  },
  {
   "cell_type": "code",
   "execution_count": 12,
   "id": "growing-poetry",
   "metadata": {},
   "outputs": [
    {
     "data": {
      "text/plain": [
       "Index(['admission_type_id', 'discharge_disposition_id', 'admission_source_id',\n",
       "       'time_in_hospital', 'num_lab_procedures', 'num_procedures',\n",
       "       'num_medications', 'number_outpatient', 'number_emergency',\n",
       "       'number_inpatient', 'number_diagnoses', 'race_AfricanAmerican',\n",
       "       'race_Asian', 'race_Caucasian', 'race_Hispanic', 'race_Other',\n",
       "       'gend_Female', 'gend_Male', 'max__>200', 'max__>300', 'max__None',\n",
       "       'max__Norm', 'A1Cr_>7', 'A1Cr_>8', 'A1Cr_None', 'A1Cr_Norm',\n",
       "       'metf_Down', 'metf_No', 'metf_Steady', 'metf_Up', 'repa_Down',\n",
       "       'repa_No', 'repa_Steady', 'repa_Up', 'glir_Down', 'glir_No',\n",
       "       'glir_Steady', 'glir_Up', 'gliz_Down', 'gliz_No', 'gliz_Steady',\n",
       "       'gliz_Up', 'glyb_Down', 'glyb_No', 'glyb_Steady', 'glyb_Up',\n",
       "       'piog_Down', 'piog_No', 'piog_Steady', 'piog_Up', 'rosi_Down',\n",
       "       'rosi_No', 'rosi_Steady', 'rosi_Up', 'insu_Down', 'insu_No',\n",
       "       'insu_Steady', 'insu_Up', 'chan_Ch', 'chan_No', 'diab_No', 'diab_Yes',\n",
       "       'age2_[0-30)', 'age2_[30-60)', 'age2_[60-100)', 'diag_Circulatorio',\n",
       "       'diag_Diabetes', 'diag_Digestivo', 'diag_Genitourinario', 'diag_Lesion',\n",
       "       'diag_Musculoesqueletico', 'diag_Neoplasias', 'diag_Otros',\n",
       "       'diag_Respiratorio'],\n",
       "      dtype='object')"
      ]
     },
     "execution_count": 12,
     "metadata": {},
     "output_type": "execute_result"
    }
   ],
   "source": [
    "X.columns"
   ]
  },
  {
   "cell_type": "code",
   "execution_count": 13,
   "id": "distinguished-momentum",
   "metadata": {},
   "outputs": [
    {
     "data": {
      "text/plain": [
       "(71515, 74)"
      ]
     },
     "execution_count": 13,
     "metadata": {},
     "output_type": "execute_result"
    }
   ],
   "source": [
    "X.shape"
   ]
  },
  {
   "cell_type": "code",
   "execution_count": 14,
   "id": "mediterranean-radius",
   "metadata": {},
   "outputs": [
    {
     "data": {
      "text/plain": [
       "array([1, 0, 0, ..., 0, 0, 0], dtype=int64)"
      ]
     },
     "execution_count": 14,
     "metadata": {},
     "output_type": "execute_result"
    }
   ],
   "source": [
    "y"
   ]
  },
  {
   "cell_type": "markdown",
   "id": "russian-wheat",
   "metadata": {},
   "source": [
    "### DATOS DE ENTRENAMIENTO Y DE TEST"
   ]
  },
  {
   "cell_type": "code",
   "execution_count": 15,
   "id": "surgical-spanish",
   "metadata": {},
   "outputs": [],
   "source": [
    "from sklearn.model_selection import train_test_split\n",
    "X_train, X_test, y_train, y_test = train_test_split(X, y, test_size = 0.20, random_state =1)"
   ]
  },
  {
   "cell_type": "markdown",
   "id": "ruled-cooking",
   "metadata": {},
   "source": [
    "#### Datos test vs Datos train. Casos totales, Casos Positivos y Casos Negativos"
   ]
  },
  {
   "cell_type": "code",
   "execution_count": 16,
   "id": "breathing-archive",
   "metadata": {},
   "outputs": [
    {
     "name": "stdout",
     "output_type": "stream",
     "text": [
      "Total registros del train 57212\n",
      "Total positivos en y_train:  5029\n",
      "Porcentaje de positivos:  8.79 %\n",
      "Total negativos en y_train:  52183\n",
      "Porcentaje de negativos 91.21 %\n"
     ]
    }
   ],
   "source": [
    "total = len(y_train)\n",
    "one_count = np.sum(y_train)\n",
    "one_count_pct=one_count/total\n",
    "zero_count = total - one_count\n",
    "zero_count_pct = 1 - one_count_pct\n",
    "\n",
    "print(\"Total registros del train\", total)\n",
    "print(\"Total positivos en y_train: \", one_count)\n",
    "print(\"Porcentaje de positivos: \", round(one_count_pct*100,2), \"%\")\n",
    "print(\"Total negativos en y_train: \", zero_count)\n",
    "print(\"Porcentaje de negativos\", round(zero_count_pct*100,2), \"%\")"
   ]
  },
  {
   "cell_type": "code",
   "execution_count": 17,
   "id": "necessary-sight",
   "metadata": {},
   "outputs": [
    {
     "name": "stdout",
     "output_type": "stream",
     "text": [
      "Total registros del test 14303\n",
      "Total positivos en y_test:  1264\n",
      "Porcentaje de positivos:  8.84 %\n",
      "Total negativos en y_test:  13039\n",
      "Porcentaje de negativos 91.16 %\n"
     ]
    }
   ],
   "source": [
    "total = len(y_test)\n",
    "one_count = np.sum(y_test)\n",
    "one_count_pct=one_count/total\n",
    "zero_count = total - one_count\n",
    "zero_count_pct = 1 - one_count_pct\n",
    "\n",
    "print(\"Total registros del test\", total)\n",
    "print(\"Total positivos en y_test: \", one_count)\n",
    "print(\"Porcentaje de positivos: \", round(one_count_pct*100,2), \"%\")\n",
    "print(\"Total negativos en y_test: \", zero_count)\n",
    "print(\"Porcentaje de negativos\", round(zero_count_pct*100,2), \"%\")"
   ]
  },
  {
   "cell_type": "markdown",
   "id": "considerable-bennett",
   "metadata": {},
   "source": [
    "#### ESTANDARIZACIÓN DE DATOS"
   ]
  },
  {
   "cell_type": "code",
   "execution_count": 18,
   "id": "suspended-norman",
   "metadata": {},
   "outputs": [],
   "source": [
    "from sklearn.preprocessing import StandardScaler\n",
    "sc = StandardScaler()\n",
    "X_train = sc.fit_transform(X_train)\n",
    "X_test = sc.transform(X_test)"
   ]
  },
  {
   "cell_type": "markdown",
   "id": "detailed-valuation",
   "metadata": {},
   "source": [
    "#### Arbol de decisión. Fase de entrenamiento"
   ]
  },
  {
   "cell_type": "code",
   "execution_count": 19,
   "id": "extraordinary-hands",
   "metadata": {},
   "outputs": [
    {
     "data": {
      "text/plain": [
       "DecisionTreeClassifier(random_state=0)"
      ]
     },
     "execution_count": 19,
     "metadata": {},
     "output_type": "execute_result"
    }
   ],
   "source": [
    "from sklearn.tree import DecisionTreeClassifier\n",
    "classifier = DecisionTreeClassifier(criterion='gini', random_state = 0)\n",
    "classifier.fit(X_train, y_train)"
   ]
  },
  {
   "cell_type": "markdown",
   "id": "approved-madrid",
   "metadata": {},
   "source": [
    "#### Árbol de decisión. Fase de predicción"
   ]
  },
  {
   "cell_type": "code",
   "execution_count": 20,
   "id": "amber-blowing",
   "metadata": {},
   "outputs": [
    {
     "name": "stdout",
     "output_type": "stream",
     "text": [
      "[0 0 0 ... 0 0 0]\n",
      "250\n"
     ]
    }
   ],
   "source": [
    "y_pred = classifier.predict(X_test)\n",
    "print(y_test- y_pred)\n",
    "print(sum(y_pred-y_test))\n"
   ]
  },
  {
   "cell_type": "markdown",
   "id": "afraid-weight",
   "metadata": {},
   "source": [
    "### MATRIZ DE CONFUSIÓN"
   ]
  },
  {
   "cell_type": "code",
   "execution_count": 21,
   "id": "comfortable-nerve",
   "metadata": {},
   "outputs": [
    {
     "name": "stdout",
     "output_type": "stream",
     "text": [
      "[[11697  1342]\n",
      " [ 1092   172]]\n"
     ]
    }
   ],
   "source": [
    "from sklearn.metrics import confusion_matrix, accuracy_score\n",
    "cm = confusion_matrix(y_test, y_pred)\n",
    "print(cm)"
   ]
  },
  {
   "cell_type": "code",
   "execution_count": 22,
   "id": "mexican-pressure",
   "metadata": {},
   "outputs": [
    {
     "name": "stdout",
     "output_type": "stream",
     "text": [
      "Total Casos = 14303\n",
      "Verdaderos Positivos: 172\n",
      "Verdaderos Negativos: 11697\n",
      "Falsos Positivos:  1342\n",
      "Falsos Negativos:  1092\n",
      "Exactitud = 0.83\n",
      "Precisión = 0.11\n",
      "Sensibilidad = 0.14\n",
      "Especificidad = 0.9\n"
     ]
    }
   ],
   "source": [
    "accuracy_score(y_test, y_pred)\n",
    "TP = cm[1][1]\n",
    "TN = cm[0][0]\n",
    "FN = cm[1][0]\n",
    "FP = cm[0][1]\n",
    "total_casos = TP + FP + TN + FN\n",
    "print(\"Total Casos =\", total_casos)\n",
    "print(\"Verdaderos Positivos:\", TP)\n",
    "print(\"Verdaderos Negativos:\", TN)\n",
    "print(\"Falsos Positivos: \", FP)\n",
    "print(\"Falsos Negativos: \", FN)\n",
    "exactitud = ((TP+TN) / (TP+FP+TN+FN))\n",
    "print(f\"Exactitud = {round(exactitud,2)}\")\n",
    "precision = (TP / (TP+FP))\n",
    "print(f\"Precisión = {round(precision,2)}\")\n",
    "sensibilidad = (TP / (TP + FN))\n",
    "print(f\"Sensibilidad = {round(sensibilidad,2)}\")\n",
    "especificidad = (TN/(TN+FP))\n",
    "print(f\"Especificidad = {round(especificidad, 2)}\")"
   ]
  },
  {
   "cell_type": "code",
   "execution_count": null,
   "id": "underlying-hayes",
   "metadata": {},
   "outputs": [],
   "source": []
  }
 ],
 "metadata": {
  "kernelspec": {
   "display_name": "Python 3",
   "language": "python",
   "name": "python3"
  },
  "language_info": {
   "codemirror_mode": {
    "name": "ipython",
    "version": 3
   },
   "file_extension": ".py",
   "mimetype": "text/x-python",
   "name": "python",
   "nbconvert_exporter": "python",
   "pygments_lexer": "ipython3",
   "version": "3.8.5"
  }
 },
 "nbformat": 4,
 "nbformat_minor": 5
}
